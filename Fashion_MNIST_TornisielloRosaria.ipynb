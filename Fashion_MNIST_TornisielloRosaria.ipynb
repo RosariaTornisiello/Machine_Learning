{
  "nbformat": 4,
  "nbformat_minor": 0,
  "metadata": {
    "colab": {
      "name": "Fashion_MNIST_TornisielloRosaria.ipynb",
      "provenance": [],
      "authorship_tag": "ABX9TyNF6Au0K/BbbILhWyryJ6UC",
      "include_colab_link": true
    },
    "kernelspec": {
      "name": "python3",
      "display_name": "Python 3"
    },
    "accelerator": "GPU"
  },
  "cells": [
    {
      "cell_type": "markdown",
      "metadata": {
        "id": "view-in-github",
        "colab_type": "text"
      },
      "source": [
        "<a href=\"https://colab.research.google.com/github/RosariaTornisiello/Machine_Learning/blob/main/Fashion_MNIST_TornisielloRosaria.ipynb\" target=\"_parent\"><img src=\"https://colab.research.google.com/assets/colab-badge.svg\" alt=\"Open In Colab\"/></a>"
      ]
    },
    {
      "cell_type": "markdown",
      "metadata": {
        "id": "4MZFtcWGWN8u"
      },
      "source": [
        "# Fashion_MNIST Applied Machine Learning project \n",
        "## Master Course in Bioinformatics\n",
        "## Rosaria Tornisiello"
      ]
    },
    {
      "cell_type": "markdown",
      "metadata": {
        "id": "QtWKgsS3OcH3"
      },
      "source": [
        "## The Fashion MNIST dataset\n",
        "Fashion-MNIST is a dataset of Zalando's article images—consisting of a training set of 60,000 examples and a test set of 10,000 examples. Each example is a 28x28 grayscale image, associated with a label from 10 classes.\n",
        "Each training and test example is assigned to one of the following labels:<br/>\n",
        "0\tT-shirt/top<br/> 1\tTrouser<br/>  2\tPullover<br/>  3\tDress<br/>   4\tCoat<br/>  5\tSandal<br/>  6\tShirt<br/>  7\tSneaker<br/>  8\tBag<br/>  9\tAnkle boot<br/>\n",
        "The final aim of this project is to develop a model that is able to classify images of clothing into one of the previous listed classes, with high accuracy.<br/>\n"
      ]
    },
    {
      "cell_type": "markdown",
      "metadata": {
        "id": "kQ5-rIiXtulM"
      },
      "source": [
        "## 1. Importing and inspecting the data\n",
        "The first cell is used to install a tool to estimate the time needed to run each cell.\n"
      ]
    },
    {
      "cell_type": "code",
      "metadata": {
        "id": "3so5TKyNZ9_6",
        "outputId": "b8898bae-87b3-4ca9-ff35-093dee95e531",
        "colab": {
          "base_uri": "https://localhost:8080/",
          "height": 84
        }
      },
      "source": [
        "!pip install ipython-autotime\n",
        "%load_ext autotime"
      ],
      "execution_count": 108,
      "outputs": [
        {
          "output_type": "stream",
          "text": [
            "Requirement already satisfied: ipython-autotime in /usr/local/lib/python3.6/dist-packages (0.1)\n",
            "The autotime extension is already loaded. To reload it, use:\n",
            "  %reload_ext autotime\n",
            "time: 2.78 s\n"
          ],
          "name": "stdout"
        }
      ]
    },
    {
      "cell_type": "markdown",
      "metadata": {
        "id": "dcGp_Egpr5Bd"
      },
      "source": [
        "Now some useful libraries are imported:"
      ]
    },
    {
      "cell_type": "code",
      "metadata": {
        "id": "C6IIycLIWNvc",
        "outputId": "cd2dd37c-64df-4f60-c76b-c43f981b4907",
        "colab": {
          "base_uri": "https://localhost:8080/",
          "height": 34
        }
      },
      "source": [
        "# TensorFlow and tf.keras\n",
        "import tensorflow as tf\n",
        "from tensorflow import keras\n",
        "\n",
        "# Helper libraries\n",
        "import numpy as np\n",
        "import matplotlib.pyplot as plt\n",
        "import seaborn as sns"
      ],
      "execution_count": 109,
      "outputs": [
        {
          "output_type": "stream",
          "text": [
            "time: 3.38 ms\n"
          ],
          "name": "stdout"
        }
      ]
    },
    {
      "cell_type": "markdown",
      "metadata": {
        "id": "apMbxNF9r_Mq"
      },
      "source": [
        "In the next cell the Fashion MNIST dataset is imported from keras. In particular, the tf.keras.datasets module provide a few toy datasets (already-vectorized, in Numpy format)."
      ]
    },
    {
      "cell_type": "code",
      "metadata": {
        "id": "bsxk2nEw4X8D",
        "outputId": "f7cdf888-e26a-4066-98f8-77ef7ba5a59e",
        "colab": {
          "base_uri": "https://localhost:8080/",
          "height": 34
        }
      },
      "source": [
        "fashion_mnist = keras.datasets.fashion_mnist\n",
        "\n",
        "(train_images, train_labels), (test_images, test_labels) = fashion_mnist.load_data()\n",
        "class_names = ['T-shirt/top', 'Trouser', 'Pullover', 'Dress', 'Coat',\n",
        "               'Sandal', 'Shirt', 'Sneaker', 'Bag', 'Ankle boot']"
      ],
      "execution_count": 110,
      "outputs": [
        {
          "output_type": "stream",
          "text": [
            "time: 454 ms\n"
          ],
          "name": "stdout"
        }
      ]
    },
    {
      "cell_type": "markdown",
      "metadata": {
        "id": "3JklJVE3supf"
      },
      "source": [
        "Now let's inspect a bit the data:"
      ]
    },
    {
      "cell_type": "code",
      "metadata": {
        "id": "DALF2PAAWBVF",
        "outputId": "ad79132c-1ca1-4935-8bdd-fb4c1e8092e0",
        "colab": {
          "base_uri": "https://localhost:8080/",
          "height": 101
        }
      },
      "source": [
        "print('train_images.shape:', train_images.shape)\n",
        "print('number of train labels:', len(train_labels))\n",
        "print('test_images.shape:', test_images.shape)\n",
        "print('number of test labels:', len(test_labels))"
      ],
      "execution_count": 111,
      "outputs": [
        {
          "output_type": "stream",
          "text": [
            "train_images.shape: (60000, 28, 28)\n",
            "number of train labels: 60000\n",
            "test_images.shape: (10000, 28, 28)\n",
            "number of test labels: 10000\n",
            "time: 3.35 ms\n"
          ],
          "name": "stdout"
        }
      ]
    },
    {
      "cell_type": "markdown",
      "metadata": {
        "id": "7jmEAfdS3Nv5"
      },
      "source": [
        "## 2. Visualization\n",
        "The next cell will show 25 images belonging to the train set."
      ]
    },
    {
      "cell_type": "code",
      "metadata": {
        "id": "-l2ozuJg6I-0",
        "outputId": "7bc60ebf-77f0-491b-917a-8ce3c09abc8c",
        "colab": {
          "base_uri": "https://localhost:8080/",
          "height": 595
        }
      },
      "source": [
        "plt.figure(figsize=(10,10))\n",
        "for i in range(25):\n",
        "    plt.subplot(5,5,i+1)\n",
        "    plt.xticks([])\n",
        "    plt.yticks([])\n",
        "    plt.grid(False)\n",
        "    plt.imshow(train_images[i], cmap=plt.cm.binary)\n",
        "plt.show()"
      ],
      "execution_count": 112,
      "outputs": [
        {
          "output_type": "display_data",
          "data": {
            "image/png": "[encoded data removed]",
            "text/plain": [
              "<Figure size 720x720 with 25 Axes>"
            ]
          },
          "metadata": {
            "tags": []
          }
        },
        {
          "output_type": "stream",
          "text": [
            "time: 1.25 s\n"
          ],
          "name": "stdout"
        }
      ]
    },
    {
      "cell_type": "markdown",
      "metadata": {
        "id": "YR3m3vLYud1f"
      },
      "source": [
        "As it is possible to see in the next plot, all classes are equally represented in the train dataset."
      ]
    },
    {
      "cell_type": "code",
      "metadata": {
        "id": "KM6Xh9SOziMS",
        "outputId": "adc94757-0fe5-46ee-aedd-1308a5d3fcb4",
        "colab": {
          "base_uri": "https://localhost:8080/",
          "height": 366
        }
      },
      "source": [
        "count_plot = sns.countplot(train_labels)\n",
        "count_plot.set(xlabel='classes', ylabel='classes counts')"
      ],
      "execution_count": 113,
      "outputs": [
        {
          "output_type": "stream",
          "text": [
            "/usr/local/lib/python3.6/dist-packages/seaborn/_decorators.py:43: FutureWarning: Pass the following variable as a keyword arg: x. From version 0.12, the only valid positional argument will be `data`, and passing other arguments without an explicit keyword will result in an error or misinterpretation.\n",
            "  FutureWarning\n"
          ],
          "name": "stderr"
        },
        {
          "output_type": "execute_result",
          "data": {
            "text/plain": [
              "[Text(0, 0.5, 'classes counts'), Text(0.5, 0, 'classes')]"
            ]
          },
          "metadata": {
            "tags": []
          },
          "execution_count": 113
        },
        {
          "output_type": "display_data",
          "data": {
            "image/png": "[encoded data removed]",
            "text/plain": [
              "<Figure size 432x288 with 1 Axes>"
            ]
          },
          "metadata": {
            "tags": [],
            "needs_background": "light"
          }
        },
        {
          "output_type": "stream",
          "text": [
            "time: 235 ms\n"
          ],
          "name": "stdout"
        }
      ]
    },
    {
      "cell_type": "markdown",
      "metadata": {
        "id": "43SWgb5ZwMrE"
      },
      "source": [
        "## 3. Decision Tree\n",
        "The first approach I decided to try is the generation of a decision tree which falls under the category of supervised learning. This kind of models can be used to solve both regression and classification problems. Decision tree uses the tree representation to solve the problem in which each leaf node corresponds to a class label and attributes are represented on the internal node of the tree."
      ]
    },
    {
      "cell_type": "code",
      "metadata": {
        "id": "yOs4Mu_pwMV1",
        "outputId": "a55e889d-db6e-400c-fd47-85cc62812c20",
        "colab": {
          "base_uri": "https://localhost:8080/",
          "height": 118
        }
      },
      "source": [
        "#from sklearn.tree import DecisionTreeClassifier\n",
        "from sklearn import tree\n",
        "train_images1 = train_images.flatten().reshape(60000,784)\n",
        "test_images1 = test_images.flatten().reshape(10000,784)\n",
        "\n",
        "tree_clf = tree.DecisionTreeClassifier(max_depth=10)\n",
        "tree_clf.fit(train_images1,train_labels)"
      ],
      "execution_count": 114,
      "outputs": [
        {
          "output_type": "execute_result",
          "data": {
            "text/plain": [
              "DecisionTreeClassifier(ccp_alpha=0.0, class_weight=None, criterion='gini',\n",
              "                       max_depth=10, max_features=None, max_leaf_nodes=None,\n",
              "                       min_impurity_decrease=0.0, min_impurity_split=None,\n",
              "                       min_samples_leaf=1, min_samples_split=2,\n",
              "                       min_weight_fraction_leaf=0.0, presort='deprecated',\n",
              "                       random_state=None, splitter='best')"
            ]
          },
          "metadata": {
            "tags": []
          },
          "execution_count": 114
        },
        {
          "output_type": "stream",
          "text": [
            "time: 18.1 s\n"
          ],
          "name": "stdout"
        }
      ]
    },
    {
      "cell_type": "markdown",
      "metadata": {
        "id": "z3gCEBLx-iDn"
      },
      "source": [
        "In the next cell I tried to plot the tree but, given its dimensions, it is difficult to visualize it either writing it in a png image or plotting it in the cell output."
      ]
    },
    {
      "cell_type": "code",
      "metadata": {
        "id": "xpGNTu4Z4rjL",
        "outputId": "4e28b95d-73ce-4984-bc51-9003d72f1839",
        "colab": {
          "base_uri": "https://localhost:8080/",
          "height": 34
        }
      },
      "source": [
        "#import graphviz\n",
        "#import pydotplus\n",
        "#from IPython.display import Image\n",
        "#dot_data = tree.export_graphviz(tree_clf, out_file=None,\n",
        "#                                class_names=class_names, \n",
        "#                                filled=True, rounded=True, \n",
        "#                                special_characters=True)  \n",
        "#pydot_graph = pydotplus.graph_from_dot_data(dot_data)\n",
        "#pydot_graph.set_size('\"10,10!\"')\n",
        "#pydot_graph.write_png('decision_tree.png')\n",
        "#Image(pydot_graph.create_png())"
      ],
      "execution_count": 115,
      "outputs": [
        {
          "output_type": "stream",
          "text": [
            "time: 3.04 ms\n"
          ],
          "name": "stdout"
        }
      ]
    },
    {
      "cell_type": "code",
      "metadata": {
        "id": "sDe1mDoZ6x4G",
        "outputId": "674f082b-e80a-4b59-f5ed-c79329ee772d",
        "colab": {
          "base_uri": "https://localhost:8080/",
          "height": 34
        }
      },
      "source": [
        "clf_predictons = tree_clf.predict(test_images1)"
      ],
      "execution_count": 116,
      "outputs": [
        {
          "output_type": "stream",
          "text": [
            "time: 20.5 ms\n"
          ],
          "name": "stdout"
        }
      ]
    },
    {
      "cell_type": "markdown",
      "metadata": {
        "id": "z9IYPi7KAn6G"
      },
      "source": [
        "Now let's evaluate the model:"
      ]
    },
    {
      "cell_type": "code",
      "metadata": {
        "id": "3dtbSvT09Ae3",
        "outputId": "298ef378-34de-4da5-a9f1-4e58ca1822b2",
        "colab": {
          "base_uri": "https://localhost:8080/",
          "height": 298
        }
      },
      "source": [
        "from sklearn.metrics import confusion_matrix, accuracy_score\n",
        "\n",
        "cf_matrix = confusion_matrix(test_labels, clf_predictons)\n",
        "sns.heatmap(cf_matrix, annot=True, fmt=\"d\", cmap=\"Blues\")"
      ],
      "execution_count": 117,
      "outputs": [
        {
          "output_type": "execute_result",
          "data": {
            "text/plain": [
              "<matplotlib.axes._subplots.AxesSubplot at 0x7f19920abe80>"
            ]
          },
          "metadata": {
            "tags": []
          },
          "execution_count": 117
        },
        {
          "output_type": "display_data",
          "data": {
            "image/png": "[encoded data removed]",
            "text/plain": [
              "<Figure size 432x288 with 2 Axes>"
            ]
          },
          "metadata": {
            "tags": [],
            "needs_background": "light"
          }
        },
        {
          "output_type": "stream",
          "text": [
            "time: 757 ms\n"
          ],
          "name": "stdout"
        }
      ]
    },
    {
      "cell_type": "code",
      "metadata": {
        "id": "Egk4GfIPAWA2",
        "outputId": "e7c7b709-0780-4b1c-8d35-b531e9d1a5cf",
        "colab": {
          "base_uri": "https://localhost:8080/",
          "height": 50
        }
      },
      "source": [
        "print(\"Accuracy:\", accuracy_score(test_labels, clf_predictons))"
      ],
      "execution_count": 118,
      "outputs": [
        {
          "output_type": "stream",
          "text": [
            "Accuracy: 0.8007\n",
            "time: 2.51 ms\n"
          ],
          "name": "stdout"
        }
      ]
    },
    {
      "cell_type": "markdown",
      "metadata": {
        "id": "D5AVc7IFArfp"
      },
      "source": [
        "The confusion matrix shows that a large part of the test set is well classified, indeed I obtained a decent accuracy. The model is clearly misclaffying especially classes 4 (coat) and 6 (shirt). It seems that the coat is sometimes confused with the class 2 (pullover) and with class 6 (and viceversa). Class 6 is sometimes confused with class 0 (T-shirt). Actually, these items look similar, instead it is very rare that an item of class 9 (ankle boot) is confused wiht one of class 0 since the correspondant images have nothing in common.\n",
        "Let's try a more complex model to increase the performance. "
      ]
    },
    {
      "cell_type": "markdown",
      "metadata": {
        "id": "WrTxDXWotobN"
      },
      "source": [
        "## 4. Random forest\n",
        "Random forest is a learning method that operates by constructing a multitude of decision trees at training time and outputting the class that is the mode of the classes (classification) or mean prediction (regression) of the individual trees.\n"
      ]
    },
    {
      "cell_type": "code",
      "metadata": {
        "id": "dMQuDyQZtnHx",
        "outputId": "369ef85b-a53e-449e-bd7c-7072ba1b9a8d",
        "colab": {
          "base_uri": "https://localhost:8080/",
          "height": 34
        }
      },
      "source": [
        "from sklearn.ensemble import RandomForestClassifier\n",
        "from sklearn.model_selection import cross_val_score\n",
        "from sklearn.metrics import classification_report\n",
        "from sklearn.metrics import classification_report, accuracy_score"
      ],
      "execution_count": 119,
      "outputs": [
        {
          "output_type": "stream",
          "text": [
            "time: 2.42 ms\n"
          ],
          "name": "stdout"
        }
      ]
    },
    {
      "cell_type": "code",
      "metadata": {
        "id": "qP0plgxmtnlT",
        "outputId": "8a1502db-a8f1-4662-f17a-0a4d17db47c7",
        "colab": {
          "base_uri": "https://localhost:8080/",
          "height": 151
        }
      },
      "source": [
        "model = RandomForestClassifier(n_estimators=100)\n",
        "model.fit(train_images1,train_labels)"
      ],
      "execution_count": 120,
      "outputs": [
        {
          "output_type": "execute_result",
          "data": {
            "text/plain": [
              "RandomForestClassifier(bootstrap=True, ccp_alpha=0.0, class_weight=None,\n",
              "                       criterion='gini', max_depth=None, max_features='auto',\n",
              "                       max_leaf_nodes=None, max_samples=None,\n",
              "                       min_impurity_decrease=0.0, min_impurity_split=None,\n",
              "                       min_samples_leaf=1, min_samples_split=2,\n",
              "                       min_weight_fraction_leaf=0.0, n_estimators=100,\n",
              "                       n_jobs=None, oob_score=False, random_state=None,\n",
              "                       verbose=0, warm_start=False)"
            ]
          },
          "metadata": {
            "tags": []
          },
          "execution_count": 120
        },
        {
          "output_type": "stream",
          "text": [
            "time: 1min 24s\n"
          ],
          "name": "stdout"
        }
      ]
    },
    {
      "cell_type": "code",
      "metadata": {
        "id": "qL1p81n0tmxt",
        "outputId": "8a85b281-33bb-4e86-cfda-e5b2a47178f4",
        "colab": {
          "base_uri": "https://localhost:8080/",
          "height": 34
        }
      },
      "source": [
        "forest_predictions = model.predict(test_images1)"
      ],
      "execution_count": 121,
      "outputs": [
        {
          "output_type": "stream",
          "text": [
            "time: 415 ms\n"
          ],
          "name": "stdout"
        }
      ]
    },
    {
      "cell_type": "code",
      "metadata": {
        "id": "NO7Fxexjw2SY",
        "outputId": "ee68b2c7-9549-4c5e-afcd-8529960de87a",
        "colab": {
          "base_uri": "https://localhost:8080/",
          "height": 353
        }
      },
      "source": [
        "c_report = classification_report(test_labels, forest_predictions)\n",
        "print(\"Classification Report:\",'\\n',c_report)\n",
        "\n",
        "accuracy = accuracy_score(test_labels,forest_predictions)\n",
        "print(\"Accuracy: \",accuracy)"
      ],
      "execution_count": 122,
      "outputs": [
        {
          "output_type": "stream",
          "text": [
            "Classification Report: \n",
            "               precision    recall  f1-score   support\n",
            "\n",
            "           0       0.83      0.87      0.85      1000\n",
            "           1       0.99      0.96      0.98      1000\n",
            "           2       0.76      0.79      0.77      1000\n",
            "           3       0.88      0.90      0.89      1000\n",
            "           4       0.76      0.81      0.78      1000\n",
            "           5       0.97      0.96      0.97      1000\n",
            "           6       0.73      0.60      0.66      1000\n",
            "           7       0.93      0.95      0.94      1000\n",
            "           8       0.96      0.97      0.96      1000\n",
            "           9       0.95      0.95      0.95      1000\n",
            "\n",
            "    accuracy                           0.88     10000\n",
            "   macro avg       0.88      0.88      0.88     10000\n",
            "weighted avg       0.88      0.88      0.88     10000\n",
            "\n",
            "Accuracy:  0.8763\n",
            "time: 31.7 ms\n"
          ],
          "name": "stdout"
        }
      ]
    },
    {
      "cell_type": "code",
      "metadata": {
        "id": "ZO6HWK1ow2Xy",
        "outputId": "538a4a28-6ace-47d5-8027-d68e9d0575e9",
        "colab": {
          "base_uri": "https://localhost:8080/",
          "height": 298
        }
      },
      "source": [
        "cf_matrix = confusion_matrix(test_labels, forest_predictions)\n",
        "sns.heatmap(cf_matrix, annot=True, fmt=\"d\", cmap=\"Blues\")"
      ],
      "execution_count": 123,
      "outputs": [
        {
          "output_type": "execute_result",
          "data": {
            "text/plain": [
              "<matplotlib.axes._subplots.AxesSubplot at 0x7f1970648278>"
            ]
          },
          "metadata": {
            "tags": []
          },
          "execution_count": 123
        },
        {
          "output_type": "display_data",
          "data": {
            "image/png": "[encoded data removed]",
            "text/plain": [
              "<Figure size 432x288 with 2 Axes>"
            ]
          },
          "metadata": {
            "tags": [],
            "needs_background": "light"
          }
        },
        {
          "output_type": "stream",
          "text": [
            "time: 744 ms\n"
          ],
          "name": "stdout"
        }
      ]
    },
    {
      "cell_type": "markdown",
      "metadata": {
        "id": "l4p6H18vE4sY"
      },
      "source": [
        "Clearly, the Random Forest classifier performed better than the simpler Decision Tree. The accuracy increased up to 87% which is, however, improvable. Evene increasing the number of estimators, the accuracy remained constant (code is not shown). "
      ]
    },
    {
      "cell_type": "markdown",
      "metadata": {
        "id": "svXCBQxW2gwt"
      },
      "source": [
        "## 5. Cross Validation\n",
        "Cross-validation is a technique for evaluating ML models by training several ML models on subsets of the available input data and evaluating them on the complementary subset of the data. This method is very useful to detect overfitting.\n",
        "\n",
        "Here I used the k-fold cross-validation, which splits the input data into k subsets of data (also known as folds). The ML model is trained on all but one (k-1) of the subsets, and then the model is evaluated on the subset that was not used for training. This process is repeated k times, with a different subset reserved for evaluation (and excluded from training) each time. In this case I used the most basic k-fold cross validation which splits the dataset in 5 subsets."
      ]
    },
    {
      "cell_type": "code",
      "metadata": {
        "id": "D_8SpO9V2jXw",
        "outputId": "18b3e799-796a-49ed-d1f4-b34f69256b9f",
        "colab": {
          "base_uri": "https://localhost:8080/",
          "height": 50
        }
      },
      "source": [
        "from sklearn.model_selection import cross_val_score\n",
        "\n",
        "x = np.vstack((test_images1,train_images1))\n",
        "y = np.concatenate((test_labels, train_labels))\n",
        "score = cross_val_score(model, x,y,cv=5, scoring=\"accuracy\")\n",
        "print (np.mean(score))"
      ],
      "execution_count": 124,
      "outputs": [
        {
          "output_type": "stream",
          "text": [
            "0.8829\n",
            "time: 6min 33s\n"
          ],
          "name": "stdout"
        }
      ]
    },
    {
      "cell_type": "markdown",
      "metadata": {
        "id": "97ZV7CN2KoW6"
      },
      "source": [
        "The accuracy obtained is similar to the one obtained using a simple train/test split, this suggests that there is not overfitting in the previous models. <br/> Since several models with accuracy ~91% have been developed, I'll try more complex models such as a CNN but first, let's prepare the data."
      ]
    },
    {
      "cell_type": "markdown",
      "metadata": {
        "id": "5TZkZqi36UOn"
      },
      "source": [
        "## 6. Preparing the data"
      ]
    },
    {
      "cell_type": "markdown",
      "metadata": {
        "id": "jB376hnw2gau"
      },
      "source": [
        "#### 6.1 Rescaling\n",
        "Pixels are represented in the range [0-255], but the NN converges faster with smaller values, in the range [0-1] so they are normalized to this range."
      ]
    },
    {
      "cell_type": "code",
      "metadata": {
        "id": "uaYJsJz52P1B",
        "outputId": "52aec5ee-d470-4980-c49f-bf59353f1e77",
        "colab": {
          "base_uri": "https://localhost:8080/",
          "height": 34
        }
      },
      "source": [
        "train_images = train_images / 255.0\n",
        "test_images = test_images / 255.0"
      ],
      "execution_count": 125,
      "outputs": [
        {
          "output_type": "stream",
          "text": [
            "time: 216 ms\n"
          ],
          "name": "stdout"
        }
      ]
    },
    {
      "cell_type": "markdown",
      "metadata": {
        "id": "mSwDDjcZ2irx"
      },
      "source": [
        "#### 6.2 Reshape\n",
        "It is necessary to convert the array from 3 dimensions to 4 dimensions so that it is suitable for keras API."
      ]
    },
    {
      "cell_type": "code",
      "metadata": {
        "id": "wgEopcEx2lrZ",
        "outputId": "09dfc322-0d4f-4b19-e0d6-422eeef3adfb",
        "colab": {
          "base_uri": "https://localhost:8080/",
          "height": 34
        }
      },
      "source": [
        "train_images = train_images.reshape(train_images.shape[0], 28, 28, 1)\n",
        "test_images = test_images.reshape(test_images.shape[0], 28, 28, 1)\n",
        "input_shape = (28, 28, 1)"
      ],
      "execution_count": 126,
      "outputs": [
        {
          "output_type": "stream",
          "text": [
            "time: 2.64 ms\n"
          ],
          "name": "stdout"
        }
      ]
    },
    {
      "cell_type": "markdown",
      "metadata": {
        "id": "B7tDd1NQozil"
      },
      "source": [
        "#### 6.3 Converting to floats\n",
        "It is also convenient to make sure that all the values are floats. \n",
        "\n"
      ]
    },
    {
      "cell_type": "code",
      "metadata": {
        "id": "7TJ3Yw23oz89",
        "outputId": "0146f8a8-b27e-4624-f3f2-1dfbf26d2e5a",
        "colab": {
          "base_uri": "https://localhost:8080/",
          "height": 34
        }
      },
      "source": [
        "train_images = train_images.astype('float32')\n",
        "test_images = test_images.astype('float32')"
      ],
      "execution_count": 127,
      "outputs": [
        {
          "output_type": "stream",
          "text": [
            "time: 83.6 ms\n"
          ],
          "name": "stdout"
        }
      ]
    },
    {
      "cell_type": "markdown",
      "metadata": {
        "id": "ogOYUBc96mHD"
      },
      "source": [
        "#### 6.4 One hot encoding of label\n",
        "At this point in the notebook the labels vary in the range [0-9], but in order to define the type of loss for the NN later, which in this case is categorical_crossentropy, the targets should be in categorical format (=one hot-vectors). "
      ]
    },
    {
      "cell_type": "code",
      "metadata": {
        "id": "O49MSewL3ypX",
        "outputId": "77242b28-c777-48af-9979-a56b43b9f9b8",
        "colab": {
          "base_uri": "https://localhost:8080/",
          "height": 67
        }
      },
      "source": [
        "from keras.utils.np_utils import to_categorical\n",
        "\n",
        "nclasses = 10\n",
        "train_labels = to_categorical(train_labels, num_classes = nclasses )\n",
        "test_labels = to_categorical(test_labels, num_classes = nclasses )\n",
        "print(\"Shape of train_labels: \", train_labels.shape) \n",
        "print(\"Shape of test_labels: \", test_labels.shape)"
      ],
      "execution_count": 128,
      "outputs": [
        {
          "output_type": "stream",
          "text": [
            "Shape of train_labels:  (60000, 10)\n",
            "Shape of test_labels:  (10000, 10)\n",
            "time: 9.67 ms\n"
          ],
          "name": "stdout"
        }
      ]
    },
    {
      "cell_type": "markdown",
      "metadata": {
        "id": "ByQA8yUOy8Hq"
      },
      "source": [
        "### 7 CNN \n",
        "In neural networks, Convolutional neural network (CNN) is one of the main categories to do images classifications. Instead of preprocessing the data to derive features, a CNN takes just the image's raw pixel data as input and \"learns\" how to extract these features, and ultimately infer what object they constitute. CNN uses some layers to gather information and determine some features from the image. These layers are:\n",
        "* Convolution: this process is main process for CNN. In this operation there is a feature detector or filter. This filter detects edges or specific shapes. Filter is placed top left of image and multiplied with value on same indices. After that all results are summed and this result is written to output matrix. Then filter slips to right to do this whole processes again and again. \n",
        "* Pooling: this layer is used for reducing parameters and computating process. Also by using this layer features invariant to scale or orientation changes are detected and it prevents overfitting. There are some pooling process like average pooling, max pooling etc.\n",
        "* Flattening: basically flattening is taking matrix came from convolutional and pooling processes and turn it into one dimensional array. \n",
        "* Full Connection (Dense): this layer takes data from one dimension array described above and starts learning process.\n",
        "\n",
        "Finally, I used also dropout that is a regularization technique for reducing overfitting. It is called “dropout” because it drops out visible or hidden units in neural network.\n",
        "#### 7.1 Basic model\n",
        "Firstly, I generated a basic CNN. The details are shown in the model summary."
      ]
    },
    {
      "cell_type": "code",
      "metadata": {
        "id": "Q6NjWDBWwtFh",
        "outputId": "9f48bc07-e78d-4d66-ad8d-97eee4ed6a7b",
        "colab": {
          "base_uri": "https://localhost:8080/",
          "height": 34
        }
      },
      "source": [
        "from keras.models import Sequential\n",
        "from keras.layers import Dense, Dropout, Flatten\n",
        "from keras.layers import Conv2D, MaxPool2D\n",
        "from keras.optimizers import Adam\n"
      ],
      "execution_count": 129,
      "outputs": [
        {
          "output_type": "stream",
          "text": [
            "time: 2.53 ms\n"
          ],
          "name": "stdout"
        }
      ]
    },
    {
      "cell_type": "code",
      "metadata": {
        "id": "kcoaAoajszx5",
        "outputId": "a5f4cc17-8882-4105-b9be-933352f56e41",
        "colab": {
          "base_uri": "https://localhost:8080/",
          "height": 336
        }
      },
      "source": [
        "model = Sequential()\n",
        "\n",
        "model.add(Conv2D(32, (3, 3), activation='relu', kernel_initializer='he_uniform', input_shape=(28, 28, 1)))\n",
        "model.add(MaxPool2D((2, 2)))\n",
        "model.add(Flatten())\n",
        "model.add(Dense(100, activation='relu', kernel_initializer='he_uniform'))\n",
        "model.add(Dense(nclasses, activation='softmax'))\n",
        "\n",
        "model.summary()\n"
      ],
      "execution_count": 130,
      "outputs": [
        {
          "output_type": "stream",
          "text": [
            "Model: \"sequential_11\"\n",
            "_________________________________________________________________\n",
            "Layer (type)                 Output Shape              Param #   \n",
            "=================================================================\n",
            "conv2d_18 (Conv2D)           (None, 26, 26, 32)        320       \n",
            "_________________________________________________________________\n",
            "max_pooling2d_18 (MaxPooling (None, 13, 13, 32)        0         \n",
            "_________________________________________________________________\n",
            "flatten_11 (Flatten)         (None, 5408)              0         \n",
            "_________________________________________________________________\n",
            "dense_22 (Dense)             (None, 100)               540900    \n",
            "_________________________________________________________________\n",
            "dense_23 (Dense)             (None, 10)                1010      \n",
            "=================================================================\n",
            "Total params: 542,230\n",
            "Trainable params: 542,230\n",
            "Non-trainable params: 0\n",
            "_________________________________________________________________\n",
            "time: 55.3 ms\n"
          ],
          "name": "stdout"
        }
      ]
    },
    {
      "cell_type": "code",
      "metadata": {
        "id": "7ndYcIRVv8jn",
        "outputId": "d6bb6cea-ab88-439d-deba-7e55d6a804f7",
        "colab": {
          "base_uri": "https://localhost:8080/",
          "height": 34
        }
      },
      "source": [
        "model.compile(optimizer=\"adam\", loss=\"categorical_crossentropy\", metrics=[\"accuracy\"])"
      ],
      "execution_count": 131,
      "outputs": [
        {
          "output_type": "stream",
          "text": [
            "time: 11.6 ms\n"
          ],
          "name": "stdout"
        }
      ]
    },
    {
      "cell_type": "code",
      "metadata": {
        "id": "mN34G0Thv8Wm",
        "outputId": "c44d5fa1-3e4c-44b3-cb4c-cc178c6b7c3b",
        "colab": {
          "base_uri": "https://localhost:8080/",
          "height": 874
        }
      },
      "source": [
        "epochs = 25\n",
        "batch_size = 256\n",
        "\n",
        "history = model.fit(x=train_images, \n",
        "                    y=train_labels, \n",
        "                    batch_size=batch_size, \n",
        "                    epochs=epochs,\n",
        "                    validation_split=0.1)"
      ],
      "execution_count": 132,
      "outputs": [
        {
          "output_type": "stream",
          "text": [
            "Epoch 1/25\n",
            "211/211 [==============================] - 1s 6ms/step - loss: 0.4631 - accuracy: 0.8397 - val_loss: 0.3569 - val_accuracy: 0.8705\n",
            "Epoch 2/25\n",
            "211/211 [==============================] - 1s 5ms/step - loss: 0.3028 - accuracy: 0.8936 - val_loss: 0.2856 - val_accuracy: 0.8943\n",
            "Epoch 3/25\n",
            "211/211 [==============================] - 1s 5ms/step - loss: 0.2520 - accuracy: 0.9096 - val_loss: 0.2659 - val_accuracy: 0.9045\n",
            "Epoch 4/25\n",
            "211/211 [==============================] - 1s 5ms/step - loss: 0.2247 - accuracy: 0.9198 - val_loss: 0.2465 - val_accuracy: 0.9127\n",
            "Epoch 5/25\n",
            "211/211 [==============================] - 1s 5ms/step - loss: 0.2039 - accuracy: 0.9272 - val_loss: 0.2626 - val_accuracy: 0.9058\n",
            "Epoch 6/25\n",
            "211/211 [==============================] - 1s 5ms/step - loss: 0.1841 - accuracy: 0.9352 - val_loss: 0.2457 - val_accuracy: 0.9145\n",
            "Epoch 7/25\n",
            "211/211 [==============================] - 1s 5ms/step - loss: 0.1686 - accuracy: 0.9396 - val_loss: 0.2395 - val_accuracy: 0.9143\n",
            "Epoch 8/25\n",
            "211/211 [==============================] - 1s 5ms/step - loss: 0.1560 - accuracy: 0.9442 - val_loss: 0.2522 - val_accuracy: 0.9117\n",
            "Epoch 9/25\n",
            "211/211 [==============================] - 1s 5ms/step - loss: 0.1403 - accuracy: 0.9499 - val_loss: 0.2446 - val_accuracy: 0.9130\n",
            "Epoch 10/25\n",
            "211/211 [==============================] - 1s 5ms/step - loss: 0.1309 - accuracy: 0.9526 - val_loss: 0.2442 - val_accuracy: 0.9147\n",
            "Epoch 11/25\n",
            "211/211 [==============================] - 1s 5ms/step - loss: 0.1151 - accuracy: 0.9593 - val_loss: 0.2542 - val_accuracy: 0.9188\n",
            "Epoch 12/25\n",
            "211/211 [==============================] - 1s 5ms/step - loss: 0.1125 - accuracy: 0.9597 - val_loss: 0.2511 - val_accuracy: 0.9170\n",
            "Epoch 13/25\n",
            "211/211 [==============================] - 1s 5ms/step - loss: 0.0995 - accuracy: 0.9649 - val_loss: 0.2529 - val_accuracy: 0.9182\n",
            "Epoch 14/25\n",
            "211/211 [==============================] - 1s 5ms/step - loss: 0.0920 - accuracy: 0.9679 - val_loss: 0.2740 - val_accuracy: 0.9138\n",
            "Epoch 15/25\n",
            "211/211 [==============================] - 1s 5ms/step - loss: 0.0812 - accuracy: 0.9730 - val_loss: 0.2533 - val_accuracy: 0.9182\n",
            "Epoch 16/25\n",
            "211/211 [==============================] - 1s 5ms/step - loss: 0.0745 - accuracy: 0.9744 - val_loss: 0.2721 - val_accuracy: 0.9175\n",
            "Epoch 17/25\n",
            "211/211 [==============================] - 1s 5ms/step - loss: 0.0690 - accuracy: 0.9768 - val_loss: 0.2707 - val_accuracy: 0.9200\n",
            "Epoch 18/25\n",
            "211/211 [==============================] - 1s 5ms/step - loss: 0.0649 - accuracy: 0.9783 - val_loss: 0.2922 - val_accuracy: 0.9123\n",
            "Epoch 19/25\n",
            "211/211 [==============================] - 1s 5ms/step - loss: 0.0571 - accuracy: 0.9810 - val_loss: 0.2864 - val_accuracy: 0.9180\n",
            "Epoch 20/25\n",
            "211/211 [==============================] - 1s 5ms/step - loss: 0.0515 - accuracy: 0.9831 - val_loss: 0.3221 - val_accuracy: 0.9120\n",
            "Epoch 21/25\n",
            "211/211 [==============================] - 1s 5ms/step - loss: 0.0472 - accuracy: 0.9852 - val_loss: 0.3048 - val_accuracy: 0.9185\n",
            "Epoch 22/25\n",
            "211/211 [==============================] - 1s 5ms/step - loss: 0.0426 - accuracy: 0.9871 - val_loss: 0.3095 - val_accuracy: 0.9207\n",
            "Epoch 23/25\n",
            "211/211 [==============================] - 1s 5ms/step - loss: 0.0370 - accuracy: 0.9889 - val_loss: 0.3246 - val_accuracy: 0.9192\n",
            "Epoch 24/25\n",
            "211/211 [==============================] - 1s 5ms/step - loss: 0.0368 - accuracy: 0.9886 - val_loss: 0.3265 - val_accuracy: 0.9183\n",
            "Epoch 25/25\n",
            "211/211 [==============================] - 1s 5ms/step - loss: 0.0294 - accuracy: 0.9918 - val_loss: 0.3500 - val_accuracy: 0.9220\n",
            "time: 25.8 s\n"
          ],
          "name": "stdout"
        }
      ]
    },
    {
      "cell_type": "code",
      "metadata": {
        "id": "ZF9ZDS4fF1Le",
        "outputId": "049b6de7-13e2-4ce7-d245-38a9571de343",
        "colab": {
          "base_uri": "https://localhost:8080/",
          "height": 312
        }
      },
      "source": [
        "plt.plot(history.history['accuracy'])\n",
        "plt.plot(history.history['loss'])\n",
        "plt.plot(history.history['val_loss'])\n",
        "plt.plot(history.history['val_accuracy'])\n",
        "plt.title('model performances')\n",
        "plt.ylabel('accuracy')\n",
        "plt.xlabel('epoch')\n",
        "plt.legend(['train_accuracy','train_loss','val_loss','val_accuracy'],loc='right')\n",
        "plt.show()"
      ],
      "execution_count": 133,
      "outputs": [
        {
          "output_type": "display_data",
          "data": {
            "image/png": "[encoded data removed]",
            "text/plain": [
              "<Figure size 432x288 with 1 Axes>"
            ]
          },
          "metadata": {
            "tags": [],
            "needs_background": "light"
          }
        },
        {
          "output_type": "stream",
          "text": [
            "time: 208 ms\n"
          ],
          "name": "stdout"
        }
      ]
    },
    {
      "cell_type": "code",
      "metadata": {
        "id": "UbcA5ZdIL5Np",
        "outputId": "86b7d605-f384-4b6e-edef-b5a33d52f266",
        "colab": {
          "base_uri": "https://localhost:8080/",
          "height": 84
        }
      },
      "source": [
        "score = model.evaluate(test_images,test_labels)\n",
        "print(\"Test loss:\", score[0])\n",
        "print(\"Test accuracy:\", score[1])"
      ],
      "execution_count": 134,
      "outputs": [
        {
          "output_type": "stream",
          "text": [
            "313/313 [==============================] - 1s 3ms/step - loss: 0.3801 - accuracy: 0.9121\n",
            "Test loss: 0.3801368772983551\n",
            "Test accuracy: 0.9121000170707703\n",
            "time: 909 ms\n"
          ],
          "name": "stdout"
        }
      ]
    },
    {
      "cell_type": "markdown",
      "metadata": {
        "id": "E3Sw1l6Qs0IP"
      },
      "source": [
        "It is evident that, compared to the previous model, the test accuracy increased, however, the model is clearly prone to overfitting since the train loss descrease while the validation loss increase. Overfitting happens when a model learns the detail and noise in the training data to the extent that it negatively impacts the performance of the model on new data (in this case the test set). This means that the noise or random fluctuations in the training data is picked up and learned as concepts by the model. The problem is that these concepts do not apply to new data and negatively impact the models ability to generalize. In this case, the validation loss start to increase since the 2°-3° epoch. So, the next and last step of this project is the implementation of an improved model in order to avoid overfitting, keeping the accuracy high."
      ]
    },
    {
      "cell_type": "markdown",
      "metadata": {
        "id": "5ocmfE6fqxDS"
      },
      "source": [
        "#### 7.2 Improved model\n",
        "The model implemented in the next cells is characterized by more layers than the basic one. The datails are shown in the model summary."
      ]
    },
    {
      "cell_type": "code",
      "metadata": {
        "id": "arUKFFz1s84U",
        "outputId": "f99d13c4-5800-43e7-e9e3-436542a5bef0",
        "colab": {
          "base_uri": "https://localhost:8080/",
          "height": 504
        }
      },
      "source": [
        "model = Sequential()\n",
        "# Must define the input shape in the first layer of the neural network\n",
        "model.add(Conv2D(filters=64, kernel_size=2, padding='same', activation='relu', input_shape=(28,28,1))) \n",
        "model.add(MaxPool2D(pool_size=2))\n",
        "model.add(Dropout(0.3))\n",
        "model.add(Conv2D(filters=32, kernel_size=2, padding='same', activation='relu'))\n",
        "model.add(MaxPool2D(pool_size=2))\n",
        "model.add(Dropout(0.3))\n",
        "model.add(Flatten())\n",
        "model.add(Dense(256, activation='relu'))\n",
        "model.add(Dropout(0.5))\n",
        "model.add(Dense(nclasses, activation='softmax'))\n",
        "# Take a look at the model summary\n",
        "model.summary()"
      ],
      "execution_count": 135,
      "outputs": [
        {
          "output_type": "stream",
          "text": [
            "Model: \"sequential_12\"\n",
            "_________________________________________________________________\n",
            "Layer (type)                 Output Shape              Param #   \n",
            "=================================================================\n",
            "conv2d_19 (Conv2D)           (None, 28, 28, 64)        320       \n",
            "_________________________________________________________________\n",
            "max_pooling2d_19 (MaxPooling (None, 14, 14, 64)        0         \n",
            "_________________________________________________________________\n",
            "dropout_21 (Dropout)         (None, 14, 14, 64)        0         \n",
            "_________________________________________________________________\n",
            "conv2d_20 (Conv2D)           (None, 14, 14, 32)        8224      \n",
            "_________________________________________________________________\n",
            "max_pooling2d_20 (MaxPooling (None, 7, 7, 32)          0         \n",
            "_________________________________________________________________\n",
            "dropout_22 (Dropout)         (None, 7, 7, 32)          0         \n",
            "_________________________________________________________________\n",
            "flatten_12 (Flatten)         (None, 1568)              0         \n",
            "_________________________________________________________________\n",
            "dense_24 (Dense)             (None, 256)               401664    \n",
            "_________________________________________________________________\n",
            "dropout_23 (Dropout)         (None, 256)               0         \n",
            "_________________________________________________________________\n",
            "dense_25 (Dense)             (None, 10)                2570      \n",
            "=================================================================\n",
            "Total params: 412,778\n",
            "Trainable params: 412,778\n",
            "Non-trainable params: 0\n",
            "_________________________________________________________________\n",
            "time: 95.1 ms\n"
          ],
          "name": "stdout"
        }
      ]
    },
    {
      "cell_type": "code",
      "metadata": {
        "id": "kEMm8A2pjYI4",
        "outputId": "d1e47791-00ab-40bf-dec1-cde1c099b76a",
        "colab": {
          "base_uri": "https://localhost:8080/",
          "height": 34
        }
      },
      "source": [
        "model.compile(optimizer=\"adam\", loss=\"categorical_crossentropy\", metrics=[\"accuracy\"])"
      ],
      "execution_count": 136,
      "outputs": [
        {
          "output_type": "stream",
          "text": [
            "time: 12 ms\n"
          ],
          "name": "stdout"
        }
      ]
    },
    {
      "cell_type": "code",
      "metadata": {
        "id": "gXdx43Gxjfxh",
        "outputId": "749062d5-4b52-449c-f849-89244ac431f7",
        "colab": {
          "base_uri": "https://localhost:8080/",
          "height": 874
        }
      },
      "source": [
        "epochs = 25\n",
        "batch_size = 256\n",
        "\n",
        "history = model.fit(x=train_images, \n",
        "                    y=train_labels, \n",
        "                    batch_size=batch_size, \n",
        "                    epochs=epochs,\n",
        "                    validation_split=0.1)"
      ],
      "execution_count": 137,
      "outputs": [
        {
          "output_type": "stream",
          "text": [
            "Epoch 1/25\n",
            "211/211 [==============================] - 2s 8ms/step - loss: 0.7417 - accuracy: 0.7250 - val_loss: 0.4333 - val_accuracy: 0.8385\n",
            "Epoch 2/25\n",
            "211/211 [==============================] - 2s 8ms/step - loss: 0.4596 - accuracy: 0.8329 - val_loss: 0.3640 - val_accuracy: 0.8667\n",
            "Epoch 3/25\n",
            "211/211 [==============================] - 2s 8ms/step - loss: 0.4067 - accuracy: 0.8529 - val_loss: 0.3375 - val_accuracy: 0.8793\n",
            "Epoch 4/25\n",
            "211/211 [==============================] - 2s 8ms/step - loss: 0.3768 - accuracy: 0.8629 - val_loss: 0.3093 - val_accuracy: 0.8897\n",
            "Epoch 5/25\n",
            "211/211 [==============================] - 2s 8ms/step - loss: 0.3562 - accuracy: 0.8712 - val_loss: 0.2967 - val_accuracy: 0.8930\n",
            "Epoch 6/25\n",
            "211/211 [==============================] - 2s 7ms/step - loss: 0.3387 - accuracy: 0.8753 - val_loss: 0.2913 - val_accuracy: 0.8903\n",
            "Epoch 7/25\n",
            "211/211 [==============================] - 2s 8ms/step - loss: 0.3284 - accuracy: 0.8797 - val_loss: 0.2789 - val_accuracy: 0.8952\n",
            "Epoch 8/25\n",
            "211/211 [==============================] - 2s 8ms/step - loss: 0.3154 - accuracy: 0.8848 - val_loss: 0.2830 - val_accuracy: 0.8943\n",
            "Epoch 9/25\n",
            "211/211 [==============================] - 2s 8ms/step - loss: 0.3069 - accuracy: 0.8874 - val_loss: 0.2621 - val_accuracy: 0.9012\n",
            "Epoch 10/25\n",
            "211/211 [==============================] - 2s 8ms/step - loss: 0.2985 - accuracy: 0.8908 - val_loss: 0.2707 - val_accuracy: 0.8983\n",
            "Epoch 11/25\n",
            "211/211 [==============================] - 2s 8ms/step - loss: 0.2912 - accuracy: 0.8929 - val_loss: 0.2616 - val_accuracy: 0.9042\n",
            "Epoch 12/25\n",
            "211/211 [==============================] - 2s 8ms/step - loss: 0.2839 - accuracy: 0.8966 - val_loss: 0.2511 - val_accuracy: 0.9055\n",
            "Epoch 13/25\n",
            "211/211 [==============================] - 2s 8ms/step - loss: 0.2775 - accuracy: 0.8981 - val_loss: 0.2459 - val_accuracy: 0.9073\n",
            "Epoch 14/25\n",
            "211/211 [==============================] - 2s 8ms/step - loss: 0.2732 - accuracy: 0.8998 - val_loss: 0.2426 - val_accuracy: 0.9093\n",
            "Epoch 15/25\n",
            "211/211 [==============================] - 2s 8ms/step - loss: 0.2679 - accuracy: 0.9026 - val_loss: 0.2381 - val_accuracy: 0.9095\n",
            "Epoch 16/25\n",
            "211/211 [==============================] - 2s 8ms/step - loss: 0.2622 - accuracy: 0.9044 - val_loss: 0.2350 - val_accuracy: 0.9110\n",
            "Epoch 17/25\n",
            "211/211 [==============================] - 2s 8ms/step - loss: 0.2560 - accuracy: 0.9050 - val_loss: 0.2394 - val_accuracy: 0.9125\n",
            "Epoch 18/25\n",
            "211/211 [==============================] - 2s 8ms/step - loss: 0.2512 - accuracy: 0.9079 - val_loss: 0.2328 - val_accuracy: 0.9125\n",
            "Epoch 19/25\n",
            "211/211 [==============================] - 2s 8ms/step - loss: 0.2474 - accuracy: 0.9079 - val_loss: 0.2293 - val_accuracy: 0.9118\n",
            "Epoch 20/25\n",
            "211/211 [==============================] - 2s 8ms/step - loss: 0.2407 - accuracy: 0.9107 - val_loss: 0.2353 - val_accuracy: 0.9133\n",
            "Epoch 21/25\n",
            "211/211 [==============================] - 2s 8ms/step - loss: 0.2403 - accuracy: 0.9116 - val_loss: 0.2261 - val_accuracy: 0.9150\n",
            "Epoch 22/25\n",
            "211/211 [==============================] - 2s 8ms/step - loss: 0.2329 - accuracy: 0.9132 - val_loss: 0.2191 - val_accuracy: 0.9168\n",
            "Epoch 23/25\n",
            "211/211 [==============================] - 2s 8ms/step - loss: 0.2346 - accuracy: 0.9129 - val_loss: 0.2203 - val_accuracy: 0.9178\n",
            "Epoch 24/25\n",
            "211/211 [==============================] - 2s 7ms/step - loss: 0.2336 - accuracy: 0.9140 - val_loss: 0.2185 - val_accuracy: 0.9180\n",
            "Epoch 25/25\n",
            "211/211 [==============================] - 2s 8ms/step - loss: 0.2296 - accuracy: 0.9148 - val_loss: 0.2200 - val_accuracy: 0.9167\n",
            "time: 41 s\n"
          ],
          "name": "stdout"
        }
      ]
    },
    {
      "cell_type": "code",
      "metadata": {
        "id": "yHe1WADrjkP_",
        "outputId": "1dea17db-fb6b-4cf7-b253-e7e7d4164b9f",
        "colab": {
          "base_uri": "https://localhost:8080/",
          "height": 312
        }
      },
      "source": [
        "plt.plot(history.history['accuracy'])\n",
        "plt.plot(history.history['loss'])\n",
        "plt.plot(history.history['val_loss'])\n",
        "plt.plot(history.history['val_accuracy'])\n",
        "plt.title('model performances')\n",
        "plt.ylabel('accuracy')\n",
        "plt.xlabel('epoch')\n",
        "plt.legend(['train_accuracy','train_loss','val_loss','val_accuracy'],loc='right')\n",
        "plt.show()"
      ],
      "execution_count": 138,
      "outputs": [
        {
          "output_type": "display_data",
          "data": {
            "image/png": "[encoded data removed]",
            "text/plain": [
              "<Figure size 432x288 with 1 Axes>"
            ]
          },
          "metadata": {
            "tags": [],
            "needs_background": "light"
          }
        },
        {
          "output_type": "stream",
          "text": [
            "time: 229 ms\n"
          ],
          "name": "stdout"
        }
      ]
    },
    {
      "cell_type": "code",
      "metadata": {
        "id": "zc_zrJaTkCla",
        "outputId": "ee562426-36e9-4ac7-b6fc-ce58c07e29f8",
        "colab": {
          "base_uri": "https://localhost:8080/",
          "height": 84
        }
      },
      "source": [
        "score = model.evaluate(test_images,test_labels)\n",
        "print(\"Test loss:\", score[0])\n",
        "print(\"Test accuracy:\", score[1])"
      ],
      "execution_count": 139,
      "outputs": [
        {
          "output_type": "stream",
          "text": [
            "313/313 [==============================] - 1s 3ms/step - loss: 0.2284 - accuracy: 0.9162\n",
            "Test loss: 0.22839856147766113\n",
            "Test accuracy: 0.9161999821662903\n",
            "time: 949 ms\n"
          ],
          "name": "stdout"
        }
      ]
    },
    {
      "cell_type": "markdown",
      "metadata": {
        "id": "cNqUJKEM823A"
      },
      "source": [
        "The improved model seems to perform better than the basic one, indeed it does not show overfitting, the accuracy reached almost 91% and the test loss has an acceptable value. The performance of this model could be considered satisfactory, even if it could be surely improved using more complex CNN architectures.\n",
        "\n",
        "The time needed to run all the code in this notebook is ~10 minutes using the GPU as hardware accelerator.\n",
        "\n",
        "### 8. Conclusions\n",
        "It is clear that more simple models such as decision tree and random forest, do not achieve a very high accuracy but they do not overfit the data. Instead, CNNs tend to reach a higher accuracy but with the tendency to overfitting. "
      ]
    }
  ]
}