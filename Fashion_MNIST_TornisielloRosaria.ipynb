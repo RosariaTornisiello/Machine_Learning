{
  "nbformat": 4,
  "nbformat_minor": 0,
  "metadata": {
    "colab": {
      "name": "Fashion_MNIST_TornisielloRosaria.ipynb",
      "provenance": [],
      "authorship_tag": "ABX9TyPLfElTQfHxtWIqiL6hg2F9",
      "include_colab_link": true
    },
    "kernelspec": {
      "name": "python3",
      "display_name": "Python 3"
    },
    "accelerator": "GPU"
  },
  "cells": [
    {
      "cell_type": "markdown",
      "metadata": {
        "id": "view-in-github",
        "colab_type": "text"
      },
      "source": [
        "<a href=\"https://colab.research.google.com/github/RosariaTornisiello/Machine_Learning/blob/main/Fashion_MNIST_TornisielloRosaria.ipynb\" target=\"_parent\"><img src=\"https://colab.research.google.com/assets/colab-badge.svg\" alt=\"Open In Colab\"/></a>"
      ]
    },
    {
      "cell_type": "markdown",
      "metadata": {
        "id": "4MZFtcWGWN8u"
      },
      "source": [
        "# Fashion_MNIST Applied Machine Learning project \n",
        "## Master Course in Bioinformatics\n",
        "## Rosaria Tornisiello"
      ]
    },
    {
      "cell_type": "markdown",
      "metadata": {
        "id": "QtWKgsS3OcH3"
      },
      "source": [
        "## The Fashion MNIST dataset\n",
        "Fashion-MNIST is a dataset of Zalando's article images—consisting of a training set of 60,000 examples and a test set of 10,000 examples. Each example is a 28x28 grayscale image, associated with a label from 10 classes.\n",
        "Each training and test example is assigned to one of the following labels:<br/>\n",
        "0\tT-shirt/top<br/> 1\tTrouser<br/>  2\tPullover<br/>  3\tDress<br/>   4\tCoat<br/>  5\tSandal<br/>  6\tShirt<br/>  7\tSneaker<br/>  8\tBag<br/>  9\tAnkle boot<br/>\n",
        "The final aim of this project is to develop a model that is able to classify images of clothing into one of the previous listed classes, with high accuracy.<br/>\n"
      ]
    },
    {
      "cell_type": "markdown",
      "metadata": {
        "id": "kQ5-rIiXtulM"
      },
      "source": [
        "## 1. Importing and inspecting the data\n",
        "The first cell is used to install a tool to estimate the time needed to run each cell.\n"
      ]
    },
    {
      "cell_type": "code",
      "metadata": {
        "id": "3so5TKyNZ9_6",
        "outputId": "05d92eb1-2f20-417c-b4cd-5247be92a60e",
        "colab": {
          "base_uri": "https://localhost:8080/",
          "height": 84
        }
      },
      "source": [
        "!pip install ipython-autotime\n",
        "%load_ext autotime"
      ],
      "execution_count": 35,
      "outputs": [
        {
          "output_type": "stream",
          "text": [
            "Requirement already satisfied: ipython-autotime in /usr/local/lib/python3.6/dist-packages (0.1)\n",
            "The autotime extension is already loaded. To reload it, use:\n",
            "  %reload_ext autotime\n",
            "time: 2.77 s\n"
          ],
          "name": "stdout"
        }
      ]
    },
    {
      "cell_type": "markdown",
      "metadata": {
        "id": "dcGp_Egpr5Bd"
      },
      "source": [
        "Now some useful libraries are imported:"
      ]
    },
    {
      "cell_type": "code",
      "metadata": {
        "id": "C6IIycLIWNvc",
        "outputId": "81e2afcf-dd9e-4ef7-81ab-19067dd3364b",
        "colab": {
          "base_uri": "https://localhost:8080/",
          "height": 34
        }
      },
      "source": [
        "# TensorFlow and tf.keras\n",
        "import tensorflow as tf\n",
        "from tensorflow import keras\n",
        "\n",
        "# Helper libraries\n",
        "import numpy as np\n",
        "import matplotlib.pyplot as plt\n",
        "import seaborn as sns"
      ],
      "execution_count": 36,
      "outputs": [
        {
          "output_type": "stream",
          "text": [
            "time: 1.86 ms\n"
          ],
          "name": "stdout"
        }
      ]
    },
    {
      "cell_type": "markdown",
      "metadata": {
        "id": "apMbxNF9r_Mq"
      },
      "source": [
        "In the next cell the Fashion MNIST dataset is imported from keras. In particular, the tf.keras.datasets module provide a few toy datasets (already-vectorized, in Numpy format)."
      ]
    },
    {
      "cell_type": "code",
      "metadata": {
        "id": "bsxk2nEw4X8D",
        "outputId": "391a4f4a-566f-47ec-c797-ca0050cee5f1",
        "colab": {
          "base_uri": "https://localhost:8080/",
          "height": 34
        }
      },
      "source": [
        "fashion_mnist = keras.datasets.fashion_mnist\n",
        "\n",
        "(train_images, train_labels), (test_images, test_labels) = fashion_mnist.load_data()\n",
        "class_names = ['T-shirt/top', 'Trouser', 'Pullover', 'Dress', 'Coat',\n",
        "               'Sandal', 'Shirt', 'Sneaker', 'Bag', 'Ankle boot']"
      ],
      "execution_count": 37,
      "outputs": [
        {
          "output_type": "stream",
          "text": [
            "time: 476 ms\n"
          ],
          "name": "stdout"
        }
      ]
    },
    {
      "cell_type": "markdown",
      "metadata": {
        "id": "3JklJVE3supf"
      },
      "source": [
        "Now let's inspect a bit the data:"
      ]
    },
    {
      "cell_type": "code",
      "metadata": {
        "id": "DALF2PAAWBVF",
        "outputId": "fb6040ae-ac8f-4ded-89b1-bf8983d38c54",
        "colab": {
          "base_uri": "https://localhost:8080/",
          "height": 101
        }
      },
      "source": [
        "print('train_images.shape:', train_images.shape)\n",
        "print('number of train labels:', len(train_labels))\n",
        "print('test_images.shape:', test_images.shape)\n",
        "print('number of test labels:', len(test_labels))"
      ],
      "execution_count": 38,
      "outputs": [
        {
          "output_type": "stream",
          "text": [
            "train_images.shape: (60000, 28, 28)\n",
            "number of train labels: 60000\n",
            "test_images.shape: (10000, 28, 28)\n",
            "number of test labels: 10000\n",
            "time: 2.99 ms\n"
          ],
          "name": "stdout"
        }
      ]
    },
    {
      "cell_type": "markdown",
      "metadata": {
        "id": "7jmEAfdS3Nv5"
      },
      "source": [
        "## 2. Visualization\n",
        "The next cell will show 25 images belonging to the train set."
      ]
    },
    {
      "cell_type": "code",
      "metadata": {
        "id": "-l2ozuJg6I-0",
        "outputId": "c9d09e8e-83f7-431b-f679-f09c2bf502d9",
        "colab": {
          "base_uri": "https://localhost:8080/",
          "height": 595
        }
      },
      "source": [
        "plt.figure(figsize=(10,10))\n",
        "for i in range(25):\n",
        "    plt.subplot(5,5,i+1)\n",
        "    plt.xticks([])\n",
        "    plt.yticks([])\n",
        "    plt.grid(False)\n",
        "    plt.imshow(train_images[i], cmap=plt.cm.binary)\n",
        "plt.show()"
      ],
      "execution_count": 39,
      "outputs": [
        {
          "output_type": "display_data",
          "data": {
            "image/png": "[encoded data removed]",
            "text/plain": [
              "<Figure size 720x720 with 25 Axes>"
            ]
          },
          "metadata": {
            "tags": []
          }
        },
        {
          "output_type": "stream",
          "text": [
            "time: 1.18 s\n"
          ],
          "name": "stdout"
        }
      ]
    },
    {
      "cell_type": "markdown",
      "metadata": {
        "id": "YR3m3vLYud1f"
      },
      "source": [
        "As it is possible to see in the next plot, all classes are equally represented in the train dataset."
      ]
    },
    {
      "cell_type": "code",
      "metadata": {
        "id": "KM6Xh9SOziMS",
        "outputId": "d73fd19d-a111-499a-be2a-85a5ef6281ec",
        "colab": {
          "base_uri": "https://localhost:8080/",
          "height": 366
        }
      },
      "source": [
        "count_plot = sns.countplot(train_labels)\n",
        "count_plot.set(xlabel='classes', ylabel='classes counts')"
      ],
      "execution_count": 40,
      "outputs": [
        {
          "output_type": "stream",
          "text": [
            "/usr/local/lib/python3.6/dist-packages/seaborn/_decorators.py:43: FutureWarning: Pass the following variable as a keyword arg: x. From version 0.12, the only valid positional argument will be `data`, and passing other arguments without an explicit keyword will result in an error or misinterpretation.\n",
            "  FutureWarning\n"
          ],
          "name": "stderr"
        },
        {
          "output_type": "execute_result",
          "data": {
            "text/plain": [
              "[Text(0, 0.5, 'classes counts'), Text(0.5, 0, 'classes')]"
            ]
          },
          "metadata": {
            "tags": []
          },
          "execution_count": 40
        },
        {
          "output_type": "display_data",
          "data": {
            "image/png": "[encoded data removed]",
            "text/plain": [
              "<Figure size 432x288 with 1 Axes>"
            ]
          },
          "metadata": {
            "tags": [],
            "needs_background": "light"
          }
        },
        {
          "output_type": "stream",
          "text": [
            "time: 228 ms\n"
          ],
          "name": "stdout"
        }
      ]
    },
    {
      "cell_type": "markdown",
      "metadata": {
        "id": "43SWgb5ZwMrE"
      },
      "source": [
        "## 3. Decision Tree\n",
        "The first approach I decided to try is the generation of a decision tree which falls under the category of supervised learning. This kind of models can be used to solve both regression and classification problems. Decision tree uses the tree representation to solve the problem in which each leaf node corresponds to a class label and attributes are represented on the internal node of the tree."
      ]
    },
    {
      "cell_type": "code",
      "metadata": {
        "id": "yOs4Mu_pwMV1",
        "outputId": "6173bdd8-ec08-4ab8-815e-f3815b683db6",
        "colab": {
          "base_uri": "https://localhost:8080/",
          "height": 118
        }
      },
      "source": [
        "#from sklearn.tree import DecisionTreeClassifier\n",
        "from sklearn import tree\n",
        "train_images1 = train_images.flatten().reshape(60000,784)\n",
        "test_images1 = test_images.flatten().reshape(10000,784)\n",
        "\n",
        "tree_clf = tree.DecisionTreeClassifier(max_depth=10)\n",
        "tree_clf.fit(train_images1,train_labels)"
      ],
      "execution_count": 41,
      "outputs": [
        {
          "output_type": "execute_result",
          "data": {
            "text/plain": [
              "DecisionTreeClassifier(ccp_alpha=0.0, class_weight=None, criterion='gini',\n",
              "                       max_depth=10, max_features=None, max_leaf_nodes=None,\n",
              "                       min_impurity_decrease=0.0, min_impurity_split=None,\n",
              "                       min_samples_leaf=1, min_samples_split=2,\n",
              "                       min_weight_fraction_leaf=0.0, presort='deprecated',\n",
              "                       random_state=None, splitter='best')"
            ]
          },
          "metadata": {
            "tags": []
          },
          "execution_count": 41
        },
        {
          "output_type": "stream",
          "text": [
            "time: 18.3 s\n"
          ],
          "name": "stdout"
        }
      ]
    },
    {
      "cell_type": "markdown",
      "metadata": {
        "id": "z3gCEBLx-iDn"
      },
      "source": [
        "In the next cell I tried to plot the tree but, given its dimensions, it is difficult to visualize it either writing it in a png image or plotting it in the cell output."
      ]
    },
    {
      "cell_type": "code",
      "metadata": {
        "id": "xpGNTu4Z4rjL",
        "outputId": "24888f6d-0abc-4467-8be4-e1ef5cd20d46",
        "colab": {
          "base_uri": "https://localhost:8080/",
          "height": 34
        }
      },
      "source": [
        "#import graphviz\n",
        "#import pydotplus\n",
        "#from IPython.display import Image\n",
        "#dot_data = tree.export_graphviz(tree_clf, out_file=None,\n",
        "#                                class_names=class_names, \n",
        "#                                filled=True, rounded=True, \n",
        "#                                special_characters=True)  \n",
        "#pydot_graph = pydotplus.graph_from_dot_data(dot_data)\n",
        "#pydot_graph.set_size('\"10,10!\"')\n",
        "#pydot_graph.write_png('decision_tree.png')\n",
        "#Image(pydot_graph.create_png())"
      ],
      "execution_count": 42,
      "outputs": [
        {
          "output_type": "stream",
          "text": [
            "time: 2.63 ms\n"
          ],
          "name": "stdout"
        }
      ]
    },
    {
      "cell_type": "code",
      "metadata": {
        "id": "sDe1mDoZ6x4G",
        "outputId": "21660f0d-5409-494f-afa7-4cb9d2744a94",
        "colab": {
          "base_uri": "https://localhost:8080/",
          "height": 34
        }
      },
      "source": [
        "clf_predictons = tree_clf.predict(test_images1)"
      ],
      "execution_count": 43,
      "outputs": [
        {
          "output_type": "stream",
          "text": [
            "time: 22.8 ms\n"
          ],
          "name": "stdout"
        }
      ]
    },
    {
      "cell_type": "markdown",
      "metadata": {
        "id": "z9IYPi7KAn6G"
      },
      "source": [
        "Now let's evaluate the model:"
      ]
    },
    {
      "cell_type": "code",
      "metadata": {
        "id": "3dtbSvT09Ae3",
        "outputId": "7d69cfea-8bb4-45aa-9167-fea1b56699ed",
        "colab": {
          "base_uri": "https://localhost:8080/",
          "height": 298
        }
      },
      "source": [
        "from sklearn.metrics import confusion_matrix, accuracy_score\n",
        "\n",
        "cf_matrix = confusion_matrix(test_labels, clf_predictons)\n",
        "sns.heatmap(cf_matrix, annot=True, fmt=\"d\", cmap=\"Blues\")"
      ],
      "execution_count": 44,
      "outputs": [
        {
          "output_type": "execute_result",
          "data": {
            "text/plain": [
              "<matplotlib.axes._subplots.AxesSubplot at 0x7f19aa07af28>"
            ]
          },
          "metadata": {
            "tags": []
          },
          "execution_count": 44
        },
        {
          "output_type": "display_data",
          "data": {
            "image/png": "[encoded data removed]",
            "text/plain": [
              "<Figure size 432x288 with 2 Axes>"
            ]
          },
          "metadata": {
            "tags": [],
            "needs_background": "light"
          }
        },
        {
          "output_type": "stream",
          "text": [
            "time: 743 ms\n"
          ],
          "name": "stdout"
        }
      ]
    },
    {
      "cell_type": "code",
      "metadata": {
        "id": "Egk4GfIPAWA2",
        "outputId": "8528bcc4-21c6-4236-8197-a2a50d44b235",
        "colab": {
          "base_uri": "https://localhost:8080/",
          "height": 50
        }
      },
      "source": [
        "print(\"Accuracy:\", accuracy_score(test_labels, clf_predictons))"
      ],
      "execution_count": 45,
      "outputs": [
        {
          "output_type": "stream",
          "text": [
            "Accuracy: 0.8008\n",
            "time: 4.47 ms\n"
          ],
          "name": "stdout"
        }
      ]
    },
    {
      "cell_type": "markdown",
      "metadata": {
        "id": "D5AVc7IFArfp"
      },
      "source": [
        "The confusion matrix shows that a large part of the test set is well classified, indeed I obtained a decent accuracy.\n",
        "Let's try a more complex model to increase the performance. "
      ]
    },
    {
      "cell_type": "markdown",
      "metadata": {
        "id": "WrTxDXWotobN"
      },
      "source": [
        "## 4. Random forest\n",
        "Random forest is a learning method that operates by constructing a multitude of decision trees at training time and outputting the class that is the mode of the classes (classification) or mean prediction (regression) of the individual trees.\n"
      ]
    },
    {
      "cell_type": "code",
      "metadata": {
        "id": "dMQuDyQZtnHx",
        "outputId": "88216965-903c-4774-a8c4-263e4213a3d1",
        "colab": {
          "base_uri": "https://localhost:8080/",
          "height": 34
        }
      },
      "source": [
        "from sklearn.ensemble import RandomForestClassifier\n",
        "from sklearn.model_selection import cross_val_score\n",
        "from sklearn.metrics import classification_report\n",
        "from sklearn.metrics import classification_report, accuracy_score"
      ],
      "execution_count": 46,
      "outputs": [
        {
          "output_type": "stream",
          "text": [
            "time: 2.28 ms\n"
          ],
          "name": "stdout"
        }
      ]
    },
    {
      "cell_type": "code",
      "metadata": {
        "id": "qP0plgxmtnlT",
        "outputId": "e95c3f68-1e49-4219-b107-e589430d4d6f",
        "colab": {
          "base_uri": "https://localhost:8080/",
          "height": 151
        }
      },
      "source": [
        "model = RandomForestClassifier(n_estimators=100)\n",
        "model.fit(train_images1,train_labels)"
      ],
      "execution_count": 47,
      "outputs": [
        {
          "output_type": "execute_result",
          "data": {
            "text/plain": [
              "RandomForestClassifier(bootstrap=True, ccp_alpha=0.0, class_weight=None,\n",
              "                       criterion='gini', max_depth=None, max_features='auto',\n",
              "                       max_leaf_nodes=None, max_samples=None,\n",
              "                       min_impurity_decrease=0.0, min_impurity_split=None,\n",
              "                       min_samples_leaf=1, min_samples_split=2,\n",
              "                       min_weight_fraction_leaf=0.0, n_estimators=100,\n",
              "                       n_jobs=None, oob_score=False, random_state=None,\n",
              "                       verbose=0, warm_start=False)"
            ]
          },
          "metadata": {
            "tags": []
          },
          "execution_count": 47
        },
        {
          "output_type": "stream",
          "text": [
            "time: 1min 25s\n"
          ],
          "name": "stdout"
        }
      ]
    },
    {
      "cell_type": "code",
      "metadata": {
        "id": "qL1p81n0tmxt",
        "outputId": "266dc122-1bf8-4a72-8512-375413a3153d",
        "colab": {
          "base_uri": "https://localhost:8080/",
          "height": 34
        }
      },
      "source": [
        "forest_predictions = model.predict(test_images1)"
      ],
      "execution_count": 48,
      "outputs": [
        {
          "output_type": "stream",
          "text": [
            "time: 411 ms\n"
          ],
          "name": "stdout"
        }
      ]
    },
    {
      "cell_type": "code",
      "metadata": {
        "id": "NO7Fxexjw2SY",
        "outputId": "3ed9da72-2120-403b-de5e-59737347c352",
        "colab": {
          "base_uri": "https://localhost:8080/",
          "height": 353
        }
      },
      "source": [
        "c_report = classification_report(test_labels, forest_predictions)\n",
        "print(\"Classification Report:\",'\\n',c_report)\n",
        "\n",
        "accuracy = accuracy_score(test_labels,forest_predictions)\n",
        "print(\"Accuracy: \",accuracy)"
      ],
      "execution_count": 49,
      "outputs": [
        {
          "output_type": "stream",
          "text": [
            "Classification Report: \n",
            "               precision    recall  f1-score   support\n",
            "\n",
            "           0       0.82      0.87      0.84      1000\n",
            "           1       1.00      0.96      0.98      1000\n",
            "           2       0.77      0.80      0.78      1000\n",
            "           3       0.87      0.91      0.89      1000\n",
            "           4       0.77      0.82      0.79      1000\n",
            "           5       0.97      0.95      0.96      1000\n",
            "           6       0.72      0.59      0.65      1000\n",
            "           7       0.92      0.94      0.93      1000\n",
            "           8       0.96      0.97      0.97      1000\n",
            "           9       0.95      0.95      0.95      1000\n",
            "\n",
            "    accuracy                           0.88     10000\n",
            "   macro avg       0.88      0.88      0.88     10000\n",
            "weighted avg       0.88      0.88      0.88     10000\n",
            "\n",
            "Accuracy:  0.8766\n",
            "time: 31.1 ms\n"
          ],
          "name": "stdout"
        }
      ]
    },
    {
      "cell_type": "code",
      "metadata": {
        "id": "ZO6HWK1ow2Xy",
        "outputId": "5fae7496-d67f-4960-8076-69bcffeccbb7",
        "colab": {
          "base_uri": "https://localhost:8080/",
          "height": 298
        }
      },
      "source": [
        "cf_matrix = confusion_matrix(test_labels, forest_predictions)\n",
        "sns.heatmap(cf_matrix, annot=True, fmt=\"d\", cmap=\"Blues\")"
      ],
      "execution_count": 50,
      "outputs": [
        {
          "output_type": "execute_result",
          "data": {
            "text/plain": [
              "<matplotlib.axes._subplots.AxesSubplot at 0x7f1a0fe2c898>"
            ]
          },
          "metadata": {
            "tags": []
          },
          "execution_count": 50
        },
        {
          "output_type": "display_data",
          "data": {
            "image/png": "[encoded data removed]",
            "text/plain": [
              "<Figure size 432x288 with 2 Axes>"
            ]
          },
          "metadata": {
            "tags": [],
            "needs_background": "light"
          }
        },
        {
          "output_type": "stream",
          "text": [
            "time: 769 ms\n"
          ],
          "name": "stdout"
        }
      ]
    },
    {
      "cell_type": "markdown",
      "metadata": {
        "id": "l4p6H18vE4sY"
      },
      "source": [
        "Clearly, the Random Forest classifier performed better than the simpler Decision Tree. The accuracy increased up to 87% which is, however, improvable. Evene increasing the number of estimators, the accuracy remained constant (code is not shown). "
      ]
    },
    {
      "cell_type": "markdown",
      "metadata": {
        "id": "svXCBQxW2gwt"
      },
      "source": [
        "## 5. Cross Validation\n",
        "Cross-validation is a technique for evaluating ML models by training several ML models on subsets of the available input data and evaluating them on the complementary subset of the data. This method is very useful to detect overfitting.\n",
        "\n",
        "Here I used the k-fold cross-validation, which splits the input data into k subsets of data (also known as folds). The ML model is trained on all but one (k-1) of the subsets, and then the model is evaluated on the subset that was not used for training. This process is repeated k times, with a different subset reserved for evaluation (and excluded from training) each time. In this case I used the most basic k-fold cross validation which splits the dataset in 5 subsets."
      ]
    },
    {
      "cell_type": "code",
      "metadata": {
        "id": "D_8SpO9V2jXw",
        "outputId": "9543a207-9697-4764-ec62-a60d954ad0d1",
        "colab": {
          "base_uri": "https://localhost:8080/",
          "height": 50
        }
      },
      "source": [
        "from sklearn.model_selection import cross_val_score\n",
        "\n",
        "x = np.vstack((test_images1,train_images1))\n",
        "y = np.concatenate((test_labels, train_labels))\n",
        "score = cross_val_score(model, x,y,cv=5, scoring=\"accuracy\")\n",
        "print (np.mean(score))"
      ],
      "execution_count": 51,
      "outputs": [
        {
          "output_type": "stream",
          "text": [
            "0.8821142857142856\n",
            "time: 6min 36s\n"
          ],
          "name": "stdout"
        }
      ]
    },
    {
      "cell_type": "markdown",
      "metadata": {
        "id": "97ZV7CN2KoW6"
      },
      "source": [
        "The accuracy obtained is similar to the one obtained using a simple train/test split. <br/> Since several models with accuracy ~91% have been developed, I'll try more complex models such as a CNN but first, let's prepare the data."
      ]
    },
    {
      "cell_type": "markdown",
      "metadata": {
        "id": "5TZkZqi36UOn"
      },
      "source": [
        "## 6. Preparing the data"
      ]
    },
    {
      "cell_type": "markdown",
      "metadata": {
        "id": "jB376hnw2gau"
      },
      "source": [
        "#### 6.1 Normalization\n",
        "Pixels are represented in the range [0-255], but the NN converges faster with smaller values, in the range [0-1] so they are normalized to this range."
      ]
    },
    {
      "cell_type": "code",
      "metadata": {
        "id": "uaYJsJz52P1B",
        "outputId": "b3830ece-72b3-463e-feab-d46ec7371d28",
        "colab": {
          "base_uri": "https://localhost:8080/",
          "height": 34
        }
      },
      "source": [
        "train_images = train_images / 255.0\n",
        "test_images = test_images / 255.0"
      ],
      "execution_count": 52,
      "outputs": [
        {
          "output_type": "stream",
          "text": [
            "time: 181 ms\n"
          ],
          "name": "stdout"
        }
      ]
    },
    {
      "cell_type": "markdown",
      "metadata": {
        "id": "mSwDDjcZ2irx"
      },
      "source": [
        "#### 6.2 Reshape\n",
        "It is necessary to convert the array from 3 dimensions to 4 dimensions so that it is suitable for keras API."
      ]
    },
    {
      "cell_type": "code",
      "metadata": {
        "id": "wgEopcEx2lrZ",
        "outputId": "91548b98-4c0c-46fb-ead2-41827f3bf970",
        "colab": {
          "base_uri": "https://localhost:8080/",
          "height": 34
        }
      },
      "source": [
        "train_images = train_images.reshape(train_images.shape[0], 28, 28, 1)\n",
        "test_images = test_images.reshape(test_images.shape[0], 28, 28, 1)\n",
        "input_shape = (28, 28, 1)"
      ],
      "execution_count": 53,
      "outputs": [
        {
          "output_type": "stream",
          "text": [
            "time: 2.86 ms\n"
          ],
          "name": "stdout"
        }
      ]
    },
    {
      "cell_type": "markdown",
      "metadata": {
        "id": "B7tDd1NQozil"
      },
      "source": [
        "#### 6.3 Converting to floats\n",
        "It is also convenient to make sure that all the values are floats. \n",
        "\n"
      ]
    },
    {
      "cell_type": "code",
      "metadata": {
        "id": "7TJ3Yw23oz89",
        "outputId": "3832b07c-11b6-4caf-d1ff-0792355d3bcb",
        "colab": {
          "base_uri": "https://localhost:8080/",
          "height": 34
        }
      },
      "source": [
        "train_images = train_images.astype('float32')\n",
        "test_images = test_images.astype('float32')"
      ],
      "execution_count": 54,
      "outputs": [
        {
          "output_type": "stream",
          "text": [
            "time: 119 ms\n"
          ],
          "name": "stdout"
        }
      ]
    },
    {
      "cell_type": "markdown",
      "metadata": {
        "id": "ogOYUBc96mHD"
      },
      "source": [
        "#### 6.4 One hot encoding of label\n",
        "At this point in the notebook the labels vary in the range [0-9], but in order to define the type of loss for the NN later, which in this case is categorical_crossentropy, the targets should be in categorical format (=one hot-vectors). "
      ]
    },
    {
      "cell_type": "code",
      "metadata": {
        "id": "O49MSewL3ypX",
        "outputId": "306c5f20-99fd-4e1d-84ae-b095a693fa4b",
        "colab": {
          "base_uri": "https://localhost:8080/",
          "height": 67
        }
      },
      "source": [
        "from keras.utils.np_utils import to_categorical\n",
        "\n",
        "nclasses = 10\n",
        "train_labels = to_categorical(train_labels, num_classes = nclasses )\n",
        "test_labels = to_categorical(test_labels, num_classes = nclasses )\n",
        "print(\"Shape of train_labels: \", train_labels.shape) \n",
        "print(\"Shape of test_labels: \", test_labels.shape)"
      ],
      "execution_count": 55,
      "outputs": [
        {
          "output_type": "stream",
          "text": [
            "Shape of train_labels:  (60000, 10)\n",
            "Shape of test_labels:  (10000, 10)\n",
            "time: 8.76 ms\n"
          ],
          "name": "stdout"
        }
      ]
    },
    {
      "cell_type": "markdown",
      "metadata": {
        "id": "ByQA8yUOy8Hq"
      },
      "source": [
        "### 7 CNN \n",
        "In neural networks, Convolutional neural network (CNN) is one of the main categories to do images classifications. Instead of preprocessing the data to derive features, a CNN takes just the image's raw pixel data as input and \"learns\" how to extract these features, and ultimately infer what object they constitute. CNN uses some layers to gather information and determine some features from the image. These layers are:\n",
        "* Convolution: this process is main process for CNN. In this operation there is a feature detector or filter. This filter detects edges or specific shapes. Filter is placed top left of image and multiplied with value on same indices. After that all results are summed and this result is written to output matrix. Then filter slips to right to do this whole processes again and again. \n",
        "* Pooling: this layer is used for reducing parameters and computating process. Also by using this layer features invariant to scale or orientation changes are detected and it prevents overfitting. There are some pooling process like average pooling, max pooling etc.\n",
        "* Flattening: basically flattening is taking matrix came from convolutional and pooling processes and turn it into one dimensional array. \n",
        "* Full Connection (Dense): this layer takes data from one dimension array described above and starts learning process.\n",
        "\n",
        "Finally, I used also dropout that is a regularization technique for reducing overfitting. It is called “dropout” because it drops out visible or hidden units in neural network.\n",
        "#### 7.1 Basic model\n",
        "Firstly, I generated a basic CNN. The details are shown in the model summary."
      ]
    },
    {
      "cell_type": "code",
      "metadata": {
        "id": "Q6NjWDBWwtFh",
        "outputId": "93634732-5b61-4657-998f-5168327ecd5f",
        "colab": {
          "base_uri": "https://localhost:8080/",
          "height": 34
        }
      },
      "source": [
        "from keras.models import Sequential\n",
        "from keras.layers import Dense, Dropout, Flatten\n",
        "from keras.layers import Conv2D, MaxPool2D\n",
        "from keras.optimizers import Adam\n"
      ],
      "execution_count": 56,
      "outputs": [
        {
          "output_type": "stream",
          "text": [
            "time: 2.7 ms\n"
          ],
          "name": "stdout"
        }
      ]
    },
    {
      "cell_type": "code",
      "metadata": {
        "id": "kcoaAoajszx5",
        "outputId": "40960b73-b468-423b-e2f2-3c0873402530",
        "colab": {
          "base_uri": "https://localhost:8080/",
          "height": 336
        }
      },
      "source": [
        "model = Sequential()\n",
        "\n",
        "model.add(Conv2D(32, (3, 3), activation='relu', kernel_initializer='he_uniform', input_shape=(28, 28, 1)))\n",
        "model.add(MaxPool2D((2, 2)))\n",
        "model.add(Flatten())\n",
        "model.add(Dense(100, activation='relu', kernel_initializer='he_uniform'))\n",
        "model.add(Dense(nclasses, activation='softmax'))\n",
        "\n",
        "model.summary()\n"
      ],
      "execution_count": 57,
      "outputs": [
        {
          "output_type": "stream",
          "text": [
            "Model: \"sequential_2\"\n",
            "_________________________________________________________________\n",
            "Layer (type)                 Output Shape              Param #   \n",
            "=================================================================\n",
            "conv2d_3 (Conv2D)            (None, 26, 26, 32)        320       \n",
            "_________________________________________________________________\n",
            "max_pooling2d_3 (MaxPooling2 (None, 13, 13, 32)        0         \n",
            "_________________________________________________________________\n",
            "flatten_2 (Flatten)          (None, 5408)              0         \n",
            "_________________________________________________________________\n",
            "dense_4 (Dense)              (None, 100)               540900    \n",
            "_________________________________________________________________\n",
            "dense_5 (Dense)              (None, 10)                1010      \n",
            "=================================================================\n",
            "Total params: 542,230\n",
            "Trainable params: 542,230\n",
            "Non-trainable params: 0\n",
            "_________________________________________________________________\n",
            "time: 53.3 ms\n"
          ],
          "name": "stdout"
        }
      ]
    },
    {
      "cell_type": "code",
      "metadata": {
        "id": "7ndYcIRVv8jn",
        "outputId": "f22d310d-74bb-406a-e6bd-ae0d1787375e",
        "colab": {
          "base_uri": "https://localhost:8080/",
          "height": 34
        }
      },
      "source": [
        "model.compile(optimizer=\"adam\", loss=\"categorical_crossentropy\", metrics=[\"accuracy\"])"
      ],
      "execution_count": 58,
      "outputs": [
        {
          "output_type": "stream",
          "text": [
            "time: 14.2 ms\n"
          ],
          "name": "stdout"
        }
      ]
    },
    {
      "cell_type": "code",
      "metadata": {
        "id": "mN34G0Thv8Wm",
        "outputId": "3bbf3d54-5501-4de0-a6b6-ea056f5a1d7c",
        "colab": {
          "base_uri": "https://localhost:8080/",
          "height": 538
        }
      },
      "source": [
        "epochs = 15\n",
        "batch_size = 256\n",
        "\n",
        "history = model.fit(x=train_images, \n",
        "                    y=train_labels, \n",
        "                    batch_size=batch_size, \n",
        "                    epochs=epochs,\n",
        "                    validation_split=0.1)"
      ],
      "execution_count": 59,
      "outputs": [
        {
          "output_type": "stream",
          "text": [
            "Epoch 1/15\n",
            "211/211 [==============================] - 1s 6ms/step - loss: 0.4943 - accuracy: 0.8282 - val_loss: 0.4183 - val_accuracy: 0.8512\n",
            "Epoch 2/15\n",
            "211/211 [==============================] - 1s 5ms/step - loss: 0.3161 - accuracy: 0.8886 - val_loss: 0.3390 - val_accuracy: 0.8765\n",
            "Epoch 3/15\n",
            "211/211 [==============================] - 1s 5ms/step - loss: 0.2765 - accuracy: 0.9012 - val_loss: 0.2904 - val_accuracy: 0.8957\n",
            "Epoch 4/15\n",
            "211/211 [==============================] - 1s 5ms/step - loss: 0.2477 - accuracy: 0.9102 - val_loss: 0.2769 - val_accuracy: 0.8995\n",
            "Epoch 5/15\n",
            "211/211 [==============================] - 1s 5ms/step - loss: 0.2189 - accuracy: 0.9219 - val_loss: 0.2818 - val_accuracy: 0.8985\n",
            "Epoch 6/15\n",
            "211/211 [==============================] - 1s 5ms/step - loss: 0.2025 - accuracy: 0.9276 - val_loss: 0.2560 - val_accuracy: 0.9092\n",
            "Epoch 7/15\n",
            "211/211 [==============================] - 1s 5ms/step - loss: 0.1866 - accuracy: 0.9332 - val_loss: 0.2551 - val_accuracy: 0.9105\n",
            "Epoch 8/15\n",
            "211/211 [==============================] - 1s 5ms/step - loss: 0.1719 - accuracy: 0.9384 - val_loss: 0.2592 - val_accuracy: 0.9092\n",
            "Epoch 9/15\n",
            "211/211 [==============================] - 1s 5ms/step - loss: 0.1568 - accuracy: 0.9439 - val_loss: 0.2513 - val_accuracy: 0.9112\n",
            "Epoch 10/15\n",
            "211/211 [==============================] - 1s 5ms/step - loss: 0.1474 - accuracy: 0.9467 - val_loss: 0.2475 - val_accuracy: 0.9132\n",
            "Epoch 11/15\n",
            "211/211 [==============================] - 1s 5ms/step - loss: 0.1379 - accuracy: 0.9506 - val_loss: 0.2538 - val_accuracy: 0.9138\n",
            "Epoch 12/15\n",
            "211/211 [==============================] - 1s 5ms/step - loss: 0.1243 - accuracy: 0.9558 - val_loss: 0.2479 - val_accuracy: 0.9128\n",
            "Epoch 13/15\n",
            "211/211 [==============================] - 1s 5ms/step - loss: 0.1131 - accuracy: 0.9598 - val_loss: 0.2520 - val_accuracy: 0.9167\n",
            "Epoch 14/15\n",
            "211/211 [==============================] - 1s 5ms/step - loss: 0.1048 - accuracy: 0.9634 - val_loss: 0.2685 - val_accuracy: 0.9137\n",
            "Epoch 15/15\n",
            "211/211 [==============================] - 1s 5ms/step - loss: 0.0975 - accuracy: 0.9659 - val_loss: 0.2647 - val_accuracy: 0.9162\n",
            "time: 15.7 s\n"
          ],
          "name": "stdout"
        }
      ]
    },
    {
      "cell_type": "code",
      "metadata": {
        "id": "ZF9ZDS4fF1Le",
        "outputId": "198b95f1-60b5-416f-d731-8b6239ccd9c1",
        "colab": {
          "base_uri": "https://localhost:8080/",
          "height": 312
        }
      },
      "source": [
        "plt.plot(history.history['accuracy'])\n",
        "plt.plot(history.history['loss'])\n",
        "plt.plot(history.history['val_loss'])\n",
        "plt.plot(history.history['val_accuracy'])\n",
        "plt.title('model performances')\n",
        "plt.ylabel('accuracy')\n",
        "plt.xlabel('epoch')\n",
        "plt.legend(['train_accuracy','train_loss','val_loss','val_accuracy'],loc='right')\n",
        "plt.show()"
      ],
      "execution_count": 60,
      "outputs": [
        {
          "output_type": "display_data",
          "data": {
            "image/png": "[encoded data removed]",
            "text/plain": [
              "<Figure size 432x288 with 1 Axes>"
            ]
          },
          "metadata": {
            "tags": [],
            "needs_background": "light"
          }
        },
        {
          "output_type": "stream",
          "text": [
            "time: 230 ms\n"
          ],
          "name": "stdout"
        }
      ]
    },
    {
      "cell_type": "code",
      "metadata": {
        "id": "UbcA5ZdIL5Np",
        "outputId": "aed8faf5-38b2-4e4b-87bc-07520ecde65d",
        "colab": {
          "base_uri": "https://localhost:8080/",
          "height": 84
        }
      },
      "source": [
        "score = model.evaluate(test_images,test_labels)\n",
        "print(\"Test loss:\", score[0])\n",
        "print(\"Test accuracy:\", score[1])"
      ],
      "execution_count": 61,
      "outputs": [
        {
          "output_type": "stream",
          "text": [
            "313/313 [==============================] - 1s 3ms/step - loss: 0.2882 - accuracy: 0.9076\n",
            "Test loss: 0.28820645809173584\n",
            "Test accuracy: 0.9075999855995178\n",
            "time: 914 ms\n"
          ],
          "name": "stdout"
        }
      ]
    },
    {
      "cell_type": "markdown",
      "metadata": {
        "id": "E3Sw1l6Qs0IP"
      },
      "source": [
        "It is evident that the accuracy increased, however, the model is clearly prone to overfitting since the train loss descrease while the val loss increase. Overfitting happens when a model learns the detail and noise in the training data to the extent that it negatively impacts the performance of the model on new data (in this case the test set). This means that the noise or random fluctuations in the training data is picked up and learned as concepts by the model. The problem is that these concepts do not apply to new data and negatively impact the models ability to generalize. So, the next and last step of this project is the implementation of an improved model."
      ]
    },
    {
      "cell_type": "markdown",
      "metadata": {
        "id": "5ocmfE6fqxDS"
      },
      "source": [
        "#### 7.2 Improved model\n",
        "The model implemented in the next cells is characterized by more layers than the basic one. The datails are shown in the model summary."
      ]
    },
    {
      "cell_type": "code",
      "metadata": {
        "id": "arUKFFz1s84U",
        "outputId": "3c46270b-039f-4b8e-db3d-57be12dc3650",
        "colab": {
          "base_uri": "https://localhost:8080/",
          "height": 504
        }
      },
      "source": [
        "model = Sequential()\n",
        "# Must define the input shape in the first layer of the neural network\n",
        "model.add(Conv2D(filters=64, kernel_size=2, padding='same', activation='relu', input_shape=(28,28,1))) \n",
        "model.add(MaxPool2D(pool_size=2))\n",
        "model.add(Dropout(0.3))\n",
        "model.add(Conv2D(filters=32, kernel_size=2, padding='same', activation='relu'))\n",
        "model.add(MaxPool2D(pool_size=2))\n",
        "model.add(Dropout(0.3))\n",
        "model.add(Flatten())\n",
        "model.add(Dense(256, activation='relu'))\n",
        "model.add(Dropout(0.5))\n",
        "model.add(Dense(nclasses, activation='softmax'))\n",
        "# Take a look at the model summary\n",
        "model.summary()"
      ],
      "execution_count": 62,
      "outputs": [
        {
          "output_type": "stream",
          "text": [
            "Model: \"sequential_3\"\n",
            "_________________________________________________________________\n",
            "Layer (type)                 Output Shape              Param #   \n",
            "=================================================================\n",
            "conv2d_4 (Conv2D)            (None, 28, 28, 64)        320       \n",
            "_________________________________________________________________\n",
            "max_pooling2d_4 (MaxPooling2 (None, 14, 14, 64)        0         \n",
            "_________________________________________________________________\n",
            "dropout_3 (Dropout)          (None, 14, 14, 64)        0         \n",
            "_________________________________________________________________\n",
            "conv2d_5 (Conv2D)            (None, 14, 14, 32)        8224      \n",
            "_________________________________________________________________\n",
            "max_pooling2d_5 (MaxPooling2 (None, 7, 7, 32)          0         \n",
            "_________________________________________________________________\n",
            "dropout_4 (Dropout)          (None, 7, 7, 32)          0         \n",
            "_________________________________________________________________\n",
            "flatten_3 (Flatten)          (None, 1568)              0         \n",
            "_________________________________________________________________\n",
            "dense_6 (Dense)              (None, 256)               401664    \n",
            "_________________________________________________________________\n",
            "dropout_5 (Dropout)          (None, 256)               0         \n",
            "_________________________________________________________________\n",
            "dense_7 (Dense)              (None, 10)                2570      \n",
            "=================================================================\n",
            "Total params: 412,778\n",
            "Trainable params: 412,778\n",
            "Non-trainable params: 0\n",
            "_________________________________________________________________\n",
            "time: 98.8 ms\n"
          ],
          "name": "stdout"
        }
      ]
    },
    {
      "cell_type": "code",
      "metadata": {
        "id": "kEMm8A2pjYI4",
        "outputId": "948afb0f-1497-428b-b1fd-1b999f787d5d",
        "colab": {
          "base_uri": "https://localhost:8080/",
          "height": 34
        }
      },
      "source": [
        "model.compile(optimizer=\"adam\", loss=\"categorical_crossentropy\", metrics=[\"accuracy\"])"
      ],
      "execution_count": 63,
      "outputs": [
        {
          "output_type": "stream",
          "text": [
            "time: 11 ms\n"
          ],
          "name": "stdout"
        }
      ]
    },
    {
      "cell_type": "code",
      "metadata": {
        "id": "gXdx43Gxjfxh",
        "outputId": "5b2ea10b-43c3-49d0-db1e-6b66ec21f4b5",
        "colab": {
          "base_uri": "https://localhost:8080/",
          "height": 538
        }
      },
      "source": [
        "epochs = 15\n",
        "batch_size = 256\n",
        "\n",
        "history = model.fit(x=train_images, \n",
        "                    y=train_labels, \n",
        "                    batch_size=batch_size, \n",
        "                    epochs=epochs,\n",
        "                    validation_split=0.1)"
      ],
      "execution_count": 64,
      "outputs": [
        {
          "output_type": "stream",
          "text": [
            "Epoch 1/15\n",
            "211/211 [==============================] - 2s 8ms/step - loss: 0.7558 - accuracy: 0.7171 - val_loss: 0.4570 - val_accuracy: 0.8323\n",
            "Epoch 2/15\n",
            "211/211 [==============================] - 2s 8ms/step - loss: 0.4820 - accuracy: 0.8247 - val_loss: 0.3868 - val_accuracy: 0.8625\n",
            "Epoch 3/15\n",
            "211/211 [==============================] - 2s 8ms/step - loss: 0.4248 - accuracy: 0.8464 - val_loss: 0.3451 - val_accuracy: 0.8740\n",
            "Epoch 4/15\n",
            "211/211 [==============================] - 2s 8ms/step - loss: 0.3908 - accuracy: 0.8601 - val_loss: 0.3204 - val_accuracy: 0.8827\n",
            "Epoch 5/15\n",
            "211/211 [==============================] - 2s 8ms/step - loss: 0.3713 - accuracy: 0.8666 - val_loss: 0.3024 - val_accuracy: 0.8865\n",
            "Epoch 6/15\n",
            "211/211 [==============================] - 2s 8ms/step - loss: 0.3549 - accuracy: 0.8702 - val_loss: 0.2918 - val_accuracy: 0.8938\n",
            "Epoch 7/15\n",
            "211/211 [==============================] - 2s 8ms/step - loss: 0.3375 - accuracy: 0.8772 - val_loss: 0.2799 - val_accuracy: 0.8958\n",
            "Epoch 8/15\n",
            "211/211 [==============================] - 2s 8ms/step - loss: 0.3286 - accuracy: 0.8792 - val_loss: 0.2783 - val_accuracy: 0.8923\n",
            "Epoch 9/15\n",
            "211/211 [==============================] - 2s 8ms/step - loss: 0.3187 - accuracy: 0.8834 - val_loss: 0.2761 - val_accuracy: 0.8975\n",
            "Epoch 10/15\n",
            "211/211 [==============================] - 2s 8ms/step - loss: 0.3099 - accuracy: 0.8859 - val_loss: 0.2616 - val_accuracy: 0.9038\n",
            "Epoch 11/15\n",
            "211/211 [==============================] - 2s 8ms/step - loss: 0.3016 - accuracy: 0.8891 - val_loss: 0.2549 - val_accuracy: 0.9055\n",
            "Epoch 12/15\n",
            "211/211 [==============================] - 2s 8ms/step - loss: 0.2932 - accuracy: 0.8922 - val_loss: 0.2499 - val_accuracy: 0.9060\n",
            "Epoch 13/15\n",
            "211/211 [==============================] - 2s 8ms/step - loss: 0.2851 - accuracy: 0.8948 - val_loss: 0.2458 - val_accuracy: 0.9067\n",
            "Epoch 14/15\n",
            "211/211 [==============================] - 2s 8ms/step - loss: 0.2820 - accuracy: 0.8961 - val_loss: 0.2494 - val_accuracy: 0.9065\n",
            "Epoch 15/15\n",
            "211/211 [==============================] - 2s 8ms/step - loss: 0.2752 - accuracy: 0.8980 - val_loss: 0.2461 - val_accuracy: 0.9078\n",
            "time: 25.1 s\n"
          ],
          "name": "stdout"
        }
      ]
    },
    {
      "cell_type": "code",
      "metadata": {
        "id": "yHe1WADrjkP_",
        "outputId": "7e7f4f92-436c-41ec-b9f1-ddbfbed4a151",
        "colab": {
          "base_uri": "https://localhost:8080/",
          "height": 312
        }
      },
      "source": [
        "plt.plot(history.history['accuracy'])\n",
        "plt.plot(history.history['loss'])\n",
        "plt.plot(history.history['val_loss'])\n",
        "plt.plot(history.history['val_accuracy'])\n",
        "plt.title('model performances')\n",
        "plt.ylabel('accuracy')\n",
        "plt.xlabel('epoch')\n",
        "plt.legend(['train_accuracy','train_loss','val_loss','val_accuracy'],loc='right')\n",
        "plt.show()"
      ],
      "execution_count": 65,
      "outputs": [
        {
          "output_type": "display_data",
          "data": {
            "image/png": "[encoded data removed]",
            "text/plain": [
              "<Figure size 432x288 with 1 Axes>"
            ]
          },
          "metadata": {
            "tags": [],
            "needs_background": "light"
          }
        },
        {
          "output_type": "stream",
          "text": [
            "time: 232 ms\n"
          ],
          "name": "stdout"
        }
      ]
    },
    {
      "cell_type": "code",
      "metadata": {
        "id": "zc_zrJaTkCla",
        "outputId": "75db28d0-5775-4be2-d6b5-a404a0d9d0ca",
        "colab": {
          "base_uri": "https://localhost:8080/",
          "height": 84
        }
      },
      "source": [
        "score = model.evaluate(test_images,test_labels)\n",
        "print(\"Test loss:\", score[0])\n",
        "print(\"Test accuracy:\", score[1])"
      ],
      "execution_count": 66,
      "outputs": [
        {
          "output_type": "stream",
          "text": [
            "313/313 [==============================] - 1s 3ms/step - loss: 0.2558 - accuracy: 0.9050\n",
            "Test loss: 0.2558083236217499\n",
            "Test accuracy: 0.9049999713897705\n",
            "time: 938 ms\n"
          ],
          "name": "stdout"
        }
      ]
    },
    {
      "cell_type": "markdown",
      "metadata": {
        "id": "cNqUJKEM823A"
      },
      "source": [
        "The improved model seems to perform better than the basic one, indeed it does not show overfitting, the accuracy reached almost 91% and the test loss has an acceptable value. The performance of this model could be considered satisfactory, even if it could be surely improved using more complex CNN architectures.\n",
        "\n",
        "The time needed to run all the code in this notebook is ~10 minutes using the GPU as hardware accelerator."
      ]
    }
  ]
}