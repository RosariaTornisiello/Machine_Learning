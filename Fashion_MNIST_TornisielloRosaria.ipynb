{
  "nbformat": 4,
  "nbformat_minor": 0,
  "metadata": {
    "colab": {
      "name": "Fashion_MNIST_TornisielloRosaria.ipynb",
      "provenance": [],
      "authorship_tag": "ABX9TyPuJeLg3sVh22fgbpEPkAmL",
      "include_colab_link": true
    },
    "kernelspec": {
      "name": "python3",
      "display_name": "Python 3"
    },
    "accelerator": "GPU"
  },
  "cells": [
    {
      "cell_type": "markdown",
      "metadata": {
        "id": "view-in-github",
        "colab_type": "text"
      },
      "source": [
        "<a href=\"https://colab.research.google.com/github/RosariaTornisiello/Machine_Learning/blob/main/Fashion_MNIST_TornisielloRosaria.ipynb\" target=\"_parent\"><img src=\"https://colab.research.google.com/assets/colab-badge.svg\" alt=\"Open In Colab\"/></a>"
      ]
    },
    {
      "cell_type": "markdown",
      "metadata": {
        "id": "4MZFtcWGWN8u"
      },
      "source": [
        "# Fashion_MNIST Applied Machine Learning project \n",
        "## Master Course in Bioinformatics\n",
        "## Rosaria Tornisiello"
      ]
    },
    {
      "cell_type": "markdown",
      "metadata": {
        "id": "QtWKgsS3OcH3"
      },
      "source": [
        "## The Fashion MNIST dataset\n",
        "Fashion-MNIST is a dataset of Zalando's article images—consisting of a training set of 60,000 examples and a test set of 10,000 examples. Each example is a 28x28 grayscale image, associated with a label from 10 classes.\n",
        "Each training and test example is assigned to one of the following labels:<br/>\n",
        "0\tT-shirt/top<br/> 1\tTrouser<br/>  2\tPullover<br/>  3\tDress<br/>   4\tCoat<br/>  5\tSandal<br/>  6\tShirt<br/>  7\tSneaker<br/>  8\tBag<br/>  9\tAnkle boot<br/>\n",
        "The final aim of this project is to develop a model that is able to classify images of clothing into one of the previous listed classes, with high accuracy.<br/>\n"
      ]
    },
    {
      "cell_type": "markdown",
      "metadata": {
        "id": "kQ5-rIiXtulM"
      },
      "source": [
        "## 1. Importing and inspecting the data\n",
        "The first cell is used to install a tool to estimate the time needed to run each cell.\n"
      ]
    },
    {
      "cell_type": "code",
      "metadata": {
        "id": "3so5TKyNZ9_6",
        "outputId": "411b4526-a907-408f-e39d-c48a092a53fc",
        "colab": {
          "base_uri": "https://localhost:8080/",
          "height": 168
        }
      },
      "source": [
        "!pip install ipython-autotime\n",
        "%load_ext autotime"
      ],
      "execution_count": 3,
      "outputs": [
        {
          "output_type": "stream",
          "text": [
            "Collecting ipython-autotime\n",
            "  Downloading https://files.pythonhosted.org/packages/e6/f9/0626bbdb322e3a078d968e87e3b01341e7890544de891d0cb613641220e6/ipython-autotime-0.1.tar.bz2\n",
            "Building wheels for collected packages: ipython-autotime\n",
            "  Building wheel for ipython-autotime (setup.py) ... \u001b[?25l\u001b[?25hdone\n",
            "  Created wheel for ipython-autotime: filename=ipython_autotime-0.1-cp36-none-any.whl size=1831 sha256=c2ee8958a90941ff553856a7e077fa2b8b45286c9c86153d5f10cc42ac71a487\n",
            "  Stored in directory: /root/.cache/pip/wheels/d2/df/81/2db1e54bc91002cec40334629bc39cfa86dff540b304ebcd6e\n",
            "Successfully built ipython-autotime\n",
            "Installing collected packages: ipython-autotime\n",
            "Successfully installed ipython-autotime-0.1\n"
          ],
          "name": "stdout"
        }
      ]
    },
    {
      "cell_type": "markdown",
      "metadata": {
        "id": "dcGp_Egpr5Bd"
      },
      "source": [
        "Now some useful libraries are imported:"
      ]
    },
    {
      "cell_type": "code",
      "metadata": {
        "id": "C6IIycLIWNvc",
        "outputId": "c0b7ec25-d77f-4314-d4a2-881df67209d0",
        "colab": {
          "base_uri": "https://localhost:8080/",
          "height": 34
        }
      },
      "source": [
        "# TensorFlow and tf.keras\n",
        "import tensorflow as tf\n",
        "from tensorflow import keras\n",
        "\n",
        "# Helper libraries\n",
        "import numpy as np\n",
        "import matplotlib.pyplot as plt\n",
        "import seaborn as sns"
      ],
      "execution_count": 4,
      "outputs": [
        {
          "output_type": "stream",
          "text": [
            "time: 1.85 s\n"
          ],
          "name": "stdout"
        }
      ]
    },
    {
      "cell_type": "markdown",
      "metadata": {
        "id": "apMbxNF9r_Mq"
      },
      "source": [
        "In the next cell the Fashion MNIST dataset is imported from keras. In particular, the tf.keras.datasets module provide a few toy datasets (already-vectorized, in Numpy format)."
      ]
    },
    {
      "cell_type": "code",
      "metadata": {
        "id": "bsxk2nEw4X8D",
        "outputId": "faa1e426-988d-45fe-c522-42ce1a84055a",
        "colab": {
          "base_uri": "https://localhost:8080/",
          "height": 168
        }
      },
      "source": [
        "fashion_mnist = keras.datasets.fashion_mnist\n",
        "\n",
        "(train_images, train_labels), (test_images, test_labels) = fashion_mnist.load_data()\n",
        "class_names = ['T-shirt/top', 'Trouser', 'Pullover', 'Dress', 'Coat',\n",
        "               'Sandal', 'Shirt', 'Sneaker', 'Bag', 'Ankle boot']"
      ],
      "execution_count": 5,
      "outputs": [
        {
          "output_type": "stream",
          "text": [
            "Downloading data from https://storage.googleapis.com/tensorflow/tf-keras-datasets/train-labels-idx1-ubyte.gz\n",
            "32768/29515 [=================================] - 0s 0us/step\n",
            "Downloading data from https://storage.googleapis.com/tensorflow/tf-keras-datasets/train-images-idx3-ubyte.gz\n",
            "26427392/26421880 [==============================] - 0s 0us/step\n",
            "Downloading data from https://storage.googleapis.com/tensorflow/tf-keras-datasets/t10k-labels-idx1-ubyte.gz\n",
            "8192/5148 [===============================================] - 0s 0us/step\n",
            "Downloading data from https://storage.googleapis.com/tensorflow/tf-keras-datasets/t10k-images-idx3-ubyte.gz\n",
            "4423680/4422102 [==============================] - 0s 0us/step\n",
            "time: 1.2 s\n"
          ],
          "name": "stdout"
        }
      ]
    },
    {
      "cell_type": "markdown",
      "metadata": {
        "id": "3JklJVE3supf"
      },
      "source": [
        "Now let's inspect a bit the data:"
      ]
    },
    {
      "cell_type": "code",
      "metadata": {
        "id": "DALF2PAAWBVF",
        "outputId": "2fb074a0-a564-47f0-e32c-182201f2cc1c",
        "colab": {
          "base_uri": "https://localhost:8080/",
          "height": 101
        }
      },
      "source": [
        "print('train_images.shape:', train_images.shape)\n",
        "print('number of train labels:', len(train_labels))\n",
        "print('test_images.shape:', test_images.shape)\n",
        "print('number of test labels:', len(test_labels))"
      ],
      "execution_count": 6,
      "outputs": [
        {
          "output_type": "stream",
          "text": [
            "train_images.shape: (60000, 28, 28)\n",
            "number of train labels: 60000\n",
            "test_images.shape: (10000, 28, 28)\n",
            "number of test labels: 10000\n",
            "time: 2.66 ms\n"
          ],
          "name": "stdout"
        }
      ]
    },
    {
      "cell_type": "markdown",
      "metadata": {
        "id": "7jmEAfdS3Nv5"
      },
      "source": [
        "## 2. Visualization\n",
        "The next cell will show 25 images belonging to the train set."
      ]
    },
    {
      "cell_type": "code",
      "metadata": {
        "id": "-l2ozuJg6I-0",
        "outputId": "e7f91636-b212-4671-dd88-806491671c75",
        "colab": {
          "base_uri": "https://localhost:8080/",
          "height": 595
        }
      },
      "source": [
        "plt.figure(figsize=(10,10))\n",
        "for i in range(25):\n",
        "    plt.subplot(5,5,i+1)\n",
        "    plt.xticks([])\n",
        "    plt.yticks([])\n",
        "    plt.grid(False)\n",
        "    plt.imshow(train_images[i], cmap=plt.cm.binary)\n",
        "plt.show()"
      ],
      "execution_count": 7,
      "outputs": [
        {
          "output_type": "display_data",
          "data": {
            "image/png": "[encoded data removed]",
            "text/plain": [
              "<Figure size 720x720 with 25 Axes>"
            ]
          },
          "metadata": {
            "tags": []
          }
        },
        {
          "output_type": "stream",
          "text": [
            "time: 1.14 s\n"
          ],
          "name": "stdout"
        }
      ]
    },
    {
      "cell_type": "markdown",
      "metadata": {
        "id": "YR3m3vLYud1f"
      },
      "source": [
        "As it is possible to see in the next plot, all classes are equally represented in the train dataset."
      ]
    },
    {
      "cell_type": "code",
      "metadata": {
        "id": "KM6Xh9SOziMS",
        "outputId": "b43f6555-32d8-42d5-96e7-92f490a4ebdb",
        "colab": {
          "base_uri": "https://localhost:8080/",
          "height": 366
        }
      },
      "source": [
        "count_plot = sns.countplot(train_labels)\n",
        "count_plot.set(xlabel='classes', ylabel='classes counts')"
      ],
      "execution_count": 8,
      "outputs": [
        {
          "output_type": "stream",
          "text": [
            "/usr/local/lib/python3.6/dist-packages/seaborn/_decorators.py:43: FutureWarning: Pass the following variable as a keyword arg: x. From version 0.12, the only valid positional argument will be `data`, and passing other arguments without an explicit keyword will result in an error or misinterpretation.\n",
            "  FutureWarning\n"
          ],
          "name": "stderr"
        },
        {
          "output_type": "execute_result",
          "data": {
            "text/plain": [
              "[Text(0, 0.5, 'classes counts'), Text(0.5, 0, 'classes')]"
            ]
          },
          "metadata": {
            "tags": []
          },
          "execution_count": 8
        },
        {
          "output_type": "display_data",
          "data": {
            "image/png": "[encoded data removed]",
            "text/plain": [
              "<Figure size 432x288 with 1 Axes>"
            ]
          },
          "metadata": {
            "tags": [],
            "needs_background": "light"
          }
        },
        {
          "output_type": "stream",
          "text": [
            "time: 269 ms\n"
          ],
          "name": "stdout"
        }
      ]
    },
    {
      "cell_type": "markdown",
      "metadata": {
        "id": "43SWgb5ZwMrE"
      },
      "source": [
        "## 3. Decision Tree\n",
        "The first approach I decided to try is the generation of a decision tree which falls under the category of supervised learning. This kind of models can be used to solve both regression and classification problems. Decision tree uses the tree representation to solve the problem in which each leaf node corresponds to a class label and attributes are represented on the internal node of the tree."
      ]
    },
    {
      "cell_type": "code",
      "metadata": {
        "id": "yOs4Mu_pwMV1",
        "outputId": "c83e1b33-e8b0-40d1-cb7e-aded28c36103",
        "colab": {
          "base_uri": "https://localhost:8080/",
          "height": 118
        }
      },
      "source": [
        "#from sklearn.tree import DecisionTreeClassifier\n",
        "from sklearn import tree\n",
        "train_images1 = train_images.flatten().reshape(60000,784)\n",
        "test_images1 = test_images.flatten().reshape(10000,784)\n",
        "\n",
        "tree_clf = tree.DecisionTreeClassifier(max_depth=10)\n",
        "tree_clf.fit(train_images1,train_labels)"
      ],
      "execution_count": 9,
      "outputs": [
        {
          "output_type": "execute_result",
          "data": {
            "text/plain": [
              "DecisionTreeClassifier(ccp_alpha=0.0, class_weight=None, criterion='gini',\n",
              "                       max_depth=10, max_features=None, max_leaf_nodes=None,\n",
              "                       min_impurity_decrease=0.0, min_impurity_split=None,\n",
              "                       min_samples_leaf=1, min_samples_split=2,\n",
              "                       min_weight_fraction_leaf=0.0, presort='deprecated',\n",
              "                       random_state=None, splitter='best')"
            ]
          },
          "metadata": {
            "tags": []
          },
          "execution_count": 9
        },
        {
          "output_type": "stream",
          "text": [
            "time: 19.2 s\n"
          ],
          "name": "stdout"
        }
      ]
    },
    {
      "cell_type": "markdown",
      "metadata": {
        "id": "z3gCEBLx-iDn"
      },
      "source": [
        "In the next cell I tried to plot the tree but, given its dimensions, it is difficult to visualize it either writing it in a png image or plotting it in the cell output."
      ]
    },
    {
      "cell_type": "code",
      "metadata": {
        "id": "xpGNTu4Z4rjL",
        "outputId": "16cd2492-aaaf-409d-d65d-b20f771a37b1",
        "colab": {
          "base_uri": "https://localhost:8080/",
          "height": 34
        }
      },
      "source": [
        "#import graphviz\n",
        "#import pydotplus\n",
        "#from IPython.display import Image\n",
        "#dot_data = tree.export_graphviz(tree_clf, out_file=None,\n",
        "#                                class_names=class_names, \n",
        "#                                filled=True, rounded=True, \n",
        "#                                special_characters=True)  \n",
        "#pydot_graph = pydotplus.graph_from_dot_data(dot_data)\n",
        "#pydot_graph.set_size('\"10,10!\"')\n",
        "#pydot_graph.write_png('decision_tree.png')\n",
        "#Image(pydot_graph.create_png())"
      ],
      "execution_count": 10,
      "outputs": [
        {
          "output_type": "stream",
          "text": [
            "time: 3.12 ms\n"
          ],
          "name": "stdout"
        }
      ]
    },
    {
      "cell_type": "code",
      "metadata": {
        "id": "sDe1mDoZ6x4G",
        "outputId": "4706e8a0-288d-4250-ef26-404c992f2177",
        "colab": {
          "base_uri": "https://localhost:8080/",
          "height": 34
        }
      },
      "source": [
        "clf_predictons = tree_clf.predict(test_images1)"
      ],
      "execution_count": 11,
      "outputs": [
        {
          "output_type": "stream",
          "text": [
            "time: 23.2 ms\n"
          ],
          "name": "stdout"
        }
      ]
    },
    {
      "cell_type": "markdown",
      "metadata": {
        "id": "z9IYPi7KAn6G"
      },
      "source": [
        "Now let's evaluate the model:"
      ]
    },
    {
      "cell_type": "code",
      "metadata": {
        "id": "3dtbSvT09Ae3",
        "outputId": "c9256f7b-08f5-4530-e3e2-849467373ca6",
        "colab": {
          "base_uri": "https://localhost:8080/",
          "height": 298
        }
      },
      "source": [
        "from sklearn.metrics import confusion_matrix, accuracy_score\n",
        "\n",
        "cf_matrix = confusion_matrix(test_labels, clf_predictons)\n",
        "sns.heatmap(cf_matrix, annot=True, fmt=\"d\", cmap=\"Blues\")"
      ],
      "execution_count": 12,
      "outputs": [
        {
          "output_type": "execute_result",
          "data": {
            "text/plain": [
              "<matplotlib.axes._subplots.AxesSubplot at 0x7f1a0a6825f8>"
            ]
          },
          "metadata": {
            "tags": []
          },
          "execution_count": 12
        },
        {
          "output_type": "display_data",
          "data": {
            "image/png": "[encoded data removed]",
            "text/plain": [
              "<Figure size 432x288 with 2 Axes>"
            ]
          },
          "metadata": {
            "tags": [],
            "needs_background": "light"
          }
        },
        {
          "output_type": "stream",
          "text": [
            "time: 752 ms\n"
          ],
          "name": "stdout"
        }
      ]
    },
    {
      "cell_type": "code",
      "metadata": {
        "id": "Egk4GfIPAWA2",
        "outputId": "57594717-c14c-4206-d4fb-975e06f7c6ea",
        "colab": {
          "base_uri": "https://localhost:8080/",
          "height": 50
        }
      },
      "source": [
        "print(\"Accuracy:\", accuracy_score(test_labels, clf_predictons))"
      ],
      "execution_count": 13,
      "outputs": [
        {
          "output_type": "stream",
          "text": [
            "Accuracy: 0.8008\n",
            "time: 3.76 ms\n"
          ],
          "name": "stdout"
        }
      ]
    },
    {
      "cell_type": "markdown",
      "metadata": {
        "id": "D5AVc7IFArfp"
      },
      "source": [
        "The confusion matrix shows that a large part of the test set is well classified, indeed I obtained a decent accuracy.\n",
        "Let's try a more complex model to increase the performance. "
      ]
    },
    {
      "cell_type": "markdown",
      "metadata": {
        "id": "WrTxDXWotobN"
      },
      "source": [
        "## 4. Random forest\n",
        "Random forest is a learning method that operates by constructing a multitude of decision trees at training time and outputting the class that is the mode of the classes (classification) or mean prediction (regression) of the individual trees.\n"
      ]
    },
    {
      "cell_type": "code",
      "metadata": {
        "id": "dMQuDyQZtnHx",
        "outputId": "318b92c5-26f8-4cfd-e531-c51c35437369",
        "colab": {
          "base_uri": "https://localhost:8080/",
          "height": 34
        }
      },
      "source": [
        "from sklearn.ensemble import RandomForestClassifier\n",
        "from sklearn.model_selection import cross_val_score\n",
        "from sklearn.metrics import classification_report\n",
        "from sklearn.metrics import classification_report, accuracy_score"
      ],
      "execution_count": 14,
      "outputs": [
        {
          "output_type": "stream",
          "text": [
            "time: 38.7 ms\n"
          ],
          "name": "stdout"
        }
      ]
    },
    {
      "cell_type": "code",
      "metadata": {
        "id": "qP0plgxmtnlT",
        "outputId": "32bf4847-7715-4c7a-81c5-03e28b4ad6ac",
        "colab": {
          "base_uri": "https://localhost:8080/",
          "height": 151
        }
      },
      "source": [
        "model = RandomForestClassifier(n_estimators=100)\n",
        "model.fit(train_images1,train_labels)"
      ],
      "execution_count": 15,
      "outputs": [
        {
          "output_type": "execute_result",
          "data": {
            "text/plain": [
              "RandomForestClassifier(bootstrap=True, ccp_alpha=0.0, class_weight=None,\n",
              "                       criterion='gini', max_depth=None, max_features='auto',\n",
              "                       max_leaf_nodes=None, max_samples=None,\n",
              "                       min_impurity_decrease=0.0, min_impurity_split=None,\n",
              "                       min_samples_leaf=1, min_samples_split=2,\n",
              "                       min_weight_fraction_leaf=0.0, n_estimators=100,\n",
              "                       n_jobs=None, oob_score=False, random_state=None,\n",
              "                       verbose=0, warm_start=False)"
            ]
          },
          "metadata": {
            "tags": []
          },
          "execution_count": 15
        },
        {
          "output_type": "stream",
          "text": [
            "time: 1min 25s\n"
          ],
          "name": "stdout"
        }
      ]
    },
    {
      "cell_type": "code",
      "metadata": {
        "id": "qL1p81n0tmxt",
        "outputId": "d759ecfc-ef57-445d-a7ee-9a420e9b2d9b",
        "colab": {
          "base_uri": "https://localhost:8080/",
          "height": 34
        }
      },
      "source": [
        "forest_predictions = model.predict(test_images1)"
      ],
      "execution_count": 16,
      "outputs": [
        {
          "output_type": "stream",
          "text": [
            "time: 387 ms\n"
          ],
          "name": "stdout"
        }
      ]
    },
    {
      "cell_type": "code",
      "metadata": {
        "id": "NO7Fxexjw2SY",
        "outputId": "3516e20d-d7a0-4718-c669-081c448a107b",
        "colab": {
          "base_uri": "https://localhost:8080/",
          "height": 353
        }
      },
      "source": [
        "c_report = classification_report(test_labels, forest_predictions)\n",
        "print(\"Classification Report:\",'\\n',c_report)\n",
        "\n",
        "accuracy = accuracy_score(test_labels,forest_predictions)\n",
        "print(\"Accuracy: \",accuracy)"
      ],
      "execution_count": 17,
      "outputs": [
        {
          "output_type": "stream",
          "text": [
            "Classification Report: \n",
            "               precision    recall  f1-score   support\n",
            "\n",
            "           0       0.82      0.86      0.84      1000\n",
            "           1       0.99      0.96      0.98      1000\n",
            "           2       0.76      0.81      0.78      1000\n",
            "           3       0.87      0.90      0.89      1000\n",
            "           4       0.77      0.81      0.79      1000\n",
            "           5       0.98      0.96      0.97      1000\n",
            "           6       0.72      0.59      0.65      1000\n",
            "           7       0.93      0.95      0.94      1000\n",
            "           8       0.96      0.98      0.97      1000\n",
            "           9       0.95      0.95      0.95      1000\n",
            "\n",
            "    accuracy                           0.88     10000\n",
            "   macro avg       0.88      0.88      0.88     10000\n",
            "weighted avg       0.88      0.88      0.88     10000\n",
            "\n",
            "Accuracy:  0.8764\n",
            "time: 29.6 ms\n"
          ],
          "name": "stdout"
        }
      ]
    },
    {
      "cell_type": "code",
      "metadata": {
        "id": "ZO6HWK1ow2Xy",
        "outputId": "cc84bf98-d537-4f8a-ac68-7e031e066cea",
        "colab": {
          "base_uri": "https://localhost:8080/",
          "height": 298
        }
      },
      "source": [
        "cf_matrix = confusion_matrix(test_labels, forest_predictions)\n",
        "sns.heatmap(cf_matrix, annot=True, fmt=\"d\", cmap=\"Blues\")"
      ],
      "execution_count": 18,
      "outputs": [
        {
          "output_type": "execute_result",
          "data": {
            "text/plain": [
              "<matplotlib.axes._subplots.AxesSubplot at 0x7f1a07a395c0>"
            ]
          },
          "metadata": {
            "tags": []
          },
          "execution_count": 18
        },
        {
          "output_type": "display_data",
          "data": {
            "image/png": "[encoded data removed]",
            "text/plain": [
              "<Figure size 432x288 with 2 Axes>"
            ]
          },
          "metadata": {
            "tags": [],
            "needs_background": "light"
          }
        },
        {
          "output_type": "stream",
          "text": [
            "time: 846 ms\n"
          ],
          "name": "stdout"
        }
      ]
    },
    {
      "cell_type": "markdown",
      "metadata": {
        "id": "l4p6H18vE4sY"
      },
      "source": [
        "Clearly, the Random Forest classifier performed better than the simpler Decision Tree. The accuracy increased up to 87% which is, however, improvable. Evene increasing the number of estimators, the accuracy remained constant (code is not shown). "
      ]
    },
    {
      "cell_type": "markdown",
      "metadata": {
        "id": "svXCBQxW2gwt"
      },
      "source": [
        "## 5. Cross Validation\n",
        "Cross-validation is a technique for evaluating ML models by training several ML models on subsets of the available input data and evaluating them on the complementary subset of the data. This method is very useful to detect overfitting.\n",
        "\n",
        "Here I used the k-fold cross-validation, which splits the input data into k subsets of data (also known as folds). The ML model is trained on all but one (k-1) of the subsets, and then the model is evaluated on the subset that was not used for training. This process is repeated k times, with a different subset reserved for evaluation (and excluded from training) each time. In this case I used the most basic k-fold cross validation which splits the dataset in 5 subsets."
      ]
    },
    {
      "cell_type": "code",
      "metadata": {
        "id": "D_8SpO9V2jXw",
        "outputId": "14361f5f-dcfa-4aff-a8c0-3a901c176a8e",
        "colab": {
          "base_uri": "https://localhost:8080/",
          "height": 50
        }
      },
      "source": [
        "from sklearn.model_selection import cross_val_score\n",
        "\n",
        "x = np.vstack((test_images1,train_images1))\n",
        "y = np.concatenate((test_labels, train_labels))\n",
        "score = cross_val_score(model, x,y,cv=5, scoring=\"accuracy\")\n",
        "print (np.mean(score))"
      ],
      "execution_count": 19,
      "outputs": [
        {
          "output_type": "stream",
          "text": [
            "0.8830285714285715\n",
            "time: 6min 39s\n"
          ],
          "name": "stdout"
        }
      ]
    },
    {
      "cell_type": "markdown",
      "metadata": {
        "id": "97ZV7CN2KoW6"
      },
      "source": [
        "The accuracy obtained is similar to the one obtained using a simple train/test split. <br/> Since several models with accuracy ~91% have been developed, I'll try more complex models such as a CNN but first, let's prepare the data."
      ]
    },
    {
      "cell_type": "markdown",
      "metadata": {
        "id": "5TZkZqi36UOn"
      },
      "source": [
        "## 6. Preparing the data"
      ]
    },
    {
      "cell_type": "markdown",
      "metadata": {
        "id": "jB376hnw2gau"
      },
      "source": [
        "#### 6.1 Normalization\n",
        "Pixels are represented in the range [0-255], but the NN converges faster with smaller values, in the range [0-1] so they are normalized to this range."
      ]
    },
    {
      "cell_type": "code",
      "metadata": {
        "id": "uaYJsJz52P1B",
        "outputId": "7d255196-dddb-41b8-ff38-68b95c15b3f2",
        "colab": {
          "base_uri": "https://localhost:8080/",
          "height": 34
        }
      },
      "source": [
        "train_images = train_images / 255.0\n",
        "test_images = test_images / 255.0"
      ],
      "execution_count": 20,
      "outputs": [
        {
          "output_type": "stream",
          "text": [
            "time: 171 ms\n"
          ],
          "name": "stdout"
        }
      ]
    },
    {
      "cell_type": "markdown",
      "metadata": {
        "id": "mSwDDjcZ2irx"
      },
      "source": [
        "#### 6.2 Reshape\n",
        "It is necessary to convert the array from 3 dimensions to 4 dimensions so that it is suitable for keras API."
      ]
    },
    {
      "cell_type": "code",
      "metadata": {
        "id": "wgEopcEx2lrZ",
        "outputId": "660bdfe4-81f1-49d8-a6a7-6276024fefb5",
        "colab": {
          "base_uri": "https://localhost:8080/",
          "height": 34
        }
      },
      "source": [
        "train_images = train_images.reshape(train_images.shape[0], 28, 28, 1)\n",
        "test_images = test_images.reshape(test_images.shape[0], 28, 28, 1)\n",
        "input_shape = (28, 28, 1)"
      ],
      "execution_count": 21,
      "outputs": [
        {
          "output_type": "stream",
          "text": [
            "time: 2.75 ms\n"
          ],
          "name": "stdout"
        }
      ]
    },
    {
      "cell_type": "markdown",
      "metadata": {
        "id": "B7tDd1NQozil"
      },
      "source": [
        "#### 6.3 Converting to floats\n",
        "It is also convenient to make sure that all the values are floats. \n",
        "\n"
      ]
    },
    {
      "cell_type": "code",
      "metadata": {
        "id": "7TJ3Yw23oz89",
        "outputId": "7edfd2ee-492a-43fa-e13f-c1e9c278e4b5",
        "colab": {
          "base_uri": "https://localhost:8080/",
          "height": 34
        }
      },
      "source": [
        "train_images = train_images.astype('float32')\n",
        "test_images = test_images.astype('float32')"
      ],
      "execution_count": 22,
      "outputs": [
        {
          "output_type": "stream",
          "text": [
            "time: 115 ms\n"
          ],
          "name": "stdout"
        }
      ]
    },
    {
      "cell_type": "markdown",
      "metadata": {
        "id": "ogOYUBc96mHD"
      },
      "source": [
        "#### 6.4 One hot encoding of label\n",
        "At this point in the notebook the labels vary in the range [0-9], but in order to define the type of loss for the NN later, which in this case is categorical_crossentropy, the targets should be in categorical format (=one hot-vectors). "
      ]
    },
    {
      "cell_type": "code",
      "metadata": {
        "id": "O49MSewL3ypX",
        "outputId": "6b55c55b-9912-4578-85cf-bb3d306d57eb",
        "colab": {
          "base_uri": "https://localhost:8080/",
          "height": 67
        }
      },
      "source": [
        "from keras.utils.np_utils import to_categorical\n",
        "\n",
        "nclasses = 10\n",
        "train_labels = to_categorical(train_labels, num_classes = nclasses )\n",
        "test_labels = to_categorical(test_labels, num_classes = nclasses )\n",
        "print(\"Shape of train_labels: \", train_labels.shape) \n",
        "print(\"Shape of test_labels: \", test_labels.shape)"
      ],
      "execution_count": 23,
      "outputs": [
        {
          "output_type": "stream",
          "text": [
            "Shape of train_labels:  (60000, 10)\n",
            "Shape of test_labels:  (10000, 10)\n",
            "time: 48.6 ms\n"
          ],
          "name": "stdout"
        }
      ]
    },
    {
      "cell_type": "markdown",
      "metadata": {
        "id": "ByQA8yUOy8Hq"
      },
      "source": [
        "### 7 CNN \n",
        "In neural networks, Convolutional neural network (CNN) is one of the main categories to do images classifications. Instead of preprocessing the data to derive features, a CNN takes just the image's raw pixel data as input and \"learns\" how to extract these features, and ultimately infer what object they constitute. CNN uses some layers to gather information and determine some features from the image. These layers are:\n",
        "* Convolution: this process is main process for CNN. In this operation there is a feature detector or filter. This filter detects edges or specific shapes. Filter is placed top left of image and multiplied with value on same indices. After that all results are summed and this result is written to output matrix. Then filter slips to right to do this whole processes again and again. \n",
        "* Pooling: this layer is used for reducing parameters and computating process. Also by using this layer features invariant to scale or orientation changes are detected and it prevents overfitting. There are some pooling process like average pooling, max pooling etc.\n",
        "* Flattening: basically flattening is taking matrix came from convolutional and pooling processes and turn it into one dimensional array. \n",
        "* Full Connection (Dense): this layer takes data from one dimension array described above and starts learning process.\n",
        "\n",
        "Finally, I used also dropout that is a regularization technique for reducing overfitting. It is called “dropout” because it drops out visible or hidden units in neural network.\n",
        "#### 7.1 Basic model\n",
        "Firstly, I generated a basic CNN. The details are shown in the model summary."
      ]
    },
    {
      "cell_type": "code",
      "metadata": {
        "id": "Q6NjWDBWwtFh",
        "outputId": "9c28cc63-66a1-4897-8a68-2d2134440587",
        "colab": {
          "base_uri": "https://localhost:8080/",
          "height": 34
        }
      },
      "source": [
        "from keras.models import Sequential\n",
        "from keras.layers import Dense, Dropout, Flatten\n",
        "from keras.layers import Conv2D, MaxPool2D\n",
        "from keras.optimizers import Adam\n"
      ],
      "execution_count": 24,
      "outputs": [
        {
          "output_type": "stream",
          "text": [
            "time: 1.25 ms\n"
          ],
          "name": "stdout"
        }
      ]
    },
    {
      "cell_type": "code",
      "metadata": {
        "id": "kcoaAoajszx5",
        "outputId": "71a6d4eb-c8ce-4f19-fb24-b6d7a51b01e8",
        "colab": {
          "base_uri": "https://localhost:8080/",
          "height": 336
        }
      },
      "source": [
        "model = Sequential()\n",
        "\n",
        "model.add(Conv2D(32, (3, 3), activation='relu', kernel_initializer='he_uniform', input_shape=(28, 28, 1)))\n",
        "model.add(MaxPool2D((2, 2)))\n",
        "model.add(Flatten())\n",
        "model.add(Dense(100, activation='relu', kernel_initializer='he_uniform'))\n",
        "model.add(Dense(nclasses, activation='softmax'))\n",
        "\n",
        "model.summary()\n"
      ],
      "execution_count": 25,
      "outputs": [
        {
          "output_type": "stream",
          "text": [
            "Model: \"sequential\"\n",
            "_________________________________________________________________\n",
            "Layer (type)                 Output Shape              Param #   \n",
            "=================================================================\n",
            "conv2d (Conv2D)              (None, 26, 26, 32)        320       \n",
            "_________________________________________________________________\n",
            "max_pooling2d (MaxPooling2D) (None, 13, 13, 32)        0         \n",
            "_________________________________________________________________\n",
            "flatten (Flatten)            (None, 5408)              0         \n",
            "_________________________________________________________________\n",
            "dense (Dense)                (None, 100)               540900    \n",
            "_________________________________________________________________\n",
            "dense_1 (Dense)              (None, 10)                1010      \n",
            "=================================================================\n",
            "Total params: 542,230\n",
            "Trainable params: 542,230\n",
            "Non-trainable params: 0\n",
            "_________________________________________________________________\n",
            "time: 5.53 s\n"
          ],
          "name": "stdout"
        }
      ]
    },
    {
      "cell_type": "code",
      "metadata": {
        "id": "7ndYcIRVv8jn",
        "outputId": "12922793-8fb5-4492-b257-f77eaf3c45fe",
        "colab": {
          "base_uri": "https://localhost:8080/",
          "height": 34
        }
      },
      "source": [
        "model.compile(optimizer=\"adam\", loss=\"categorical_crossentropy\", metrics=[\"accuracy\"])"
      ],
      "execution_count": 26,
      "outputs": [
        {
          "output_type": "stream",
          "text": [
            "time: 21.5 ms\n"
          ],
          "name": "stdout"
        }
      ]
    },
    {
      "cell_type": "code",
      "metadata": {
        "id": "mN34G0Thv8Wm",
        "outputId": "217547f5-76d5-4bf4-8cf0-26a63d1f7f6a",
        "colab": {
          "base_uri": "https://localhost:8080/",
          "height": 538
        }
      },
      "source": [
        "epochs = 15\n",
        "batch_size = 256\n",
        "\n",
        "history = model.fit(x=train_images, \n",
        "                    y=train_labels, \n",
        "                    batch_size=batch_size, \n",
        "                    epochs=epochs,\n",
        "                    validation_split=0.1)"
      ],
      "execution_count": 27,
      "outputs": [
        {
          "output_type": "stream",
          "text": [
            "Epoch 1/15\n",
            "211/211 [==============================] - 1s 6ms/step - loss: 0.4770 - accuracy: 0.8325 - val_loss: 0.3815 - val_accuracy: 0.8623\n",
            "Epoch 2/15\n",
            "211/211 [==============================] - 1s 5ms/step - loss: 0.3141 - accuracy: 0.8886 - val_loss: 0.2888 - val_accuracy: 0.8978\n",
            "Epoch 3/15\n",
            "211/211 [==============================] - 1s 5ms/step - loss: 0.2668 - accuracy: 0.9037 - val_loss: 0.3012 - val_accuracy: 0.8950\n",
            "Epoch 4/15\n",
            "211/211 [==============================] - 1s 5ms/step - loss: 0.2359 - accuracy: 0.9154 - val_loss: 0.2594 - val_accuracy: 0.9090\n",
            "Epoch 5/15\n",
            "211/211 [==============================] - 1s 5ms/step - loss: 0.2152 - accuracy: 0.9220 - val_loss: 0.2592 - val_accuracy: 0.9060\n",
            "Epoch 6/15\n",
            "211/211 [==============================] - 1s 5ms/step - loss: 0.1956 - accuracy: 0.9296 - val_loss: 0.2497 - val_accuracy: 0.9092\n",
            "Epoch 7/15\n",
            "211/211 [==============================] - 1s 5ms/step - loss: 0.1794 - accuracy: 0.9352 - val_loss: 0.2651 - val_accuracy: 0.9063\n",
            "Epoch 8/15\n",
            "211/211 [==============================] - 1s 5ms/step - loss: 0.1667 - accuracy: 0.9395 - val_loss: 0.2633 - val_accuracy: 0.9035\n",
            "Epoch 9/15\n",
            "211/211 [==============================] - 1s 5ms/step - loss: 0.1521 - accuracy: 0.9448 - val_loss: 0.2478 - val_accuracy: 0.9142\n",
            "Epoch 10/15\n",
            "211/211 [==============================] - 1s 5ms/step - loss: 0.1404 - accuracy: 0.9491 - val_loss: 0.2374 - val_accuracy: 0.9177\n",
            "Epoch 11/15\n",
            "211/211 [==============================] - 1s 5ms/step - loss: 0.1303 - accuracy: 0.9523 - val_loss: 0.2469 - val_accuracy: 0.9167\n",
            "Epoch 12/15\n",
            "211/211 [==============================] - 1s 5ms/step - loss: 0.1185 - accuracy: 0.9585 - val_loss: 0.2616 - val_accuracy: 0.9132\n",
            "Epoch 13/15\n",
            "211/211 [==============================] - 1s 5ms/step - loss: 0.1105 - accuracy: 0.9611 - val_loss: 0.2518 - val_accuracy: 0.9167\n",
            "Epoch 14/15\n",
            "211/211 [==============================] - 1s 5ms/step - loss: 0.1009 - accuracy: 0.9646 - val_loss: 0.2643 - val_accuracy: 0.9167\n",
            "Epoch 15/15\n",
            "211/211 [==============================] - 1s 5ms/step - loss: 0.0926 - accuracy: 0.9669 - val_loss: 0.2668 - val_accuracy: 0.9172\n",
            "time: 21.9 s\n"
          ],
          "name": "stdout"
        }
      ]
    },
    {
      "cell_type": "code",
      "metadata": {
        "id": "ZF9ZDS4fF1Le",
        "outputId": "a0675ff4-89a5-4251-c3a6-2f4d1a20fbba",
        "colab": {
          "base_uri": "https://localhost:8080/",
          "height": 312
        }
      },
      "source": [
        "plt.plot(history.history['accuracy'])\n",
        "plt.plot(history.history['loss'])\n",
        "plt.plot(history.history['val_loss'])\n",
        "plt.plot(history.history['val_accuracy'])\n",
        "plt.title('model performances')\n",
        "plt.ylabel('accuracy')\n",
        "plt.xlabel('epoch')\n",
        "plt.legend(['train_accuracy','train_loss','val_loss','val_accuracy'],loc='right')\n",
        "plt.show()"
      ],
      "execution_count": 28,
      "outputs": [
        {
          "output_type": "display_data",
          "data": {
            "image/png": "[encoded data removed]",
            "text/plain": [
              "<Figure size 432x288 with 1 Axes>"
            ]
          },
          "metadata": {
            "tags": [],
            "needs_background": "light"
          }
        },
        {
          "output_type": "stream",
          "text": [
            "time: 221 ms\n"
          ],
          "name": "stdout"
        }
      ]
    },
    {
      "cell_type": "code",
      "metadata": {
        "id": "UbcA5ZdIL5Np",
        "outputId": "6208e3e0-27c4-481f-a76a-41c85e0b4cf6",
        "colab": {
          "base_uri": "https://localhost:8080/",
          "height": 84
        }
      },
      "source": [
        "score = model.evaluate(test_images,test_labels)\n",
        "print(\"Test loss:\", score[0])\n",
        "print(\"Test accuracy:\", score[1])"
      ],
      "execution_count": 29,
      "outputs": [
        {
          "output_type": "stream",
          "text": [
            "313/313 [==============================] - 1s 3ms/step - loss: 0.2750 - accuracy: 0.9131\n",
            "Test loss: 0.2749892771244049\n",
            "Test accuracy: 0.913100004196167\n",
            "time: 954 ms\n"
          ],
          "name": "stdout"
        }
      ]
    },
    {
      "cell_type": "markdown",
      "metadata": {
        "id": "E3Sw1l6Qs0IP"
      },
      "source": [
        "It is evident that the accuracy increased, however, the model is clearly prone to overfitting since the train loss descrease while the val loss increase. Overfitting happens when a model learns the detail and noise in the training data to the extent that it negatively impacts the performance of the model on new data (in this case the test set). This means that the noise or random fluctuations in the training data is picked up and learned as concepts by the model. The problem is that these concepts do not apply to new data and negatively impact the models ability to generalize. So, the next and last step of this project is the implementation of an improved model."
      ]
    },
    {
      "cell_type": "markdown",
      "metadata": {
        "id": "5ocmfE6fqxDS"
      },
      "source": [
        "#### 7.2 Improved model\n",
        "The model implemented in the next cells is characterized by more layers than the basic one. The datails are shown in the model summary."
      ]
    },
    {
      "cell_type": "code",
      "metadata": {
        "id": "arUKFFz1s84U",
        "outputId": "d895561e-7dbd-459e-bcae-053abaca7165",
        "colab": {
          "base_uri": "https://localhost:8080/",
          "height": 504
        }
      },
      "source": [
        "model = Sequential()\n",
        "# Must define the input shape in the first layer of the neural network\n",
        "model.add(Conv2D(filters=64, kernel_size=2, padding='same', activation='relu', input_shape=(28,28,1))) \n",
        "model.add(MaxPool2D(pool_size=2))\n",
        "model.add(Dropout(0.3))\n",
        "model.add(Conv2D(filters=32, kernel_size=2, padding='same', activation='relu'))\n",
        "model.add(MaxPool2D(pool_size=2))\n",
        "model.add(Dropout(0.3))\n",
        "model.add(Flatten())\n",
        "model.add(Dense(256, activation='relu'))\n",
        "model.add(Dropout(0.5))\n",
        "model.add(Dense(nclasses, activation='softmax'))\n",
        "# Take a look at the model summary\n",
        "model.summary()"
      ],
      "execution_count": 30,
      "outputs": [
        {
          "output_type": "stream",
          "text": [
            "Model: \"sequential_1\"\n",
            "_________________________________________________________________\n",
            "Layer (type)                 Output Shape              Param #   \n",
            "=================================================================\n",
            "conv2d_1 (Conv2D)            (None, 28, 28, 64)        320       \n",
            "_________________________________________________________________\n",
            "max_pooling2d_1 (MaxPooling2 (None, 14, 14, 64)        0         \n",
            "_________________________________________________________________\n",
            "dropout (Dropout)            (None, 14, 14, 64)        0         \n",
            "_________________________________________________________________\n",
            "conv2d_2 (Conv2D)            (None, 14, 14, 32)        8224      \n",
            "_________________________________________________________________\n",
            "max_pooling2d_2 (MaxPooling2 (None, 7, 7, 32)          0         \n",
            "_________________________________________________________________\n",
            "dropout_1 (Dropout)          (None, 7, 7, 32)          0         \n",
            "_________________________________________________________________\n",
            "flatten_1 (Flatten)          (None, 1568)              0         \n",
            "_________________________________________________________________\n",
            "dense_2 (Dense)              (None, 256)               401664    \n",
            "_________________________________________________________________\n",
            "dropout_2 (Dropout)          (None, 256)               0         \n",
            "_________________________________________________________________\n",
            "dense_3 (Dense)              (None, 10)                2570      \n",
            "=================================================================\n",
            "Total params: 412,778\n",
            "Trainable params: 412,778\n",
            "Non-trainable params: 0\n",
            "_________________________________________________________________\n",
            "time: 109 ms\n"
          ],
          "name": "stdout"
        }
      ]
    },
    {
      "cell_type": "code",
      "metadata": {
        "id": "kEMm8A2pjYI4",
        "outputId": "4e86ef82-853d-4ac1-d590-6cb1df4f3efb",
        "colab": {
          "base_uri": "https://localhost:8080/",
          "height": 34
        }
      },
      "source": [
        "model.compile(optimizer=\"adam\", loss=\"categorical_crossentropy\", metrics=[\"accuracy\"])"
      ],
      "execution_count": 31,
      "outputs": [
        {
          "output_type": "stream",
          "text": [
            "time: 15.1 ms\n"
          ],
          "name": "stdout"
        }
      ]
    },
    {
      "cell_type": "code",
      "metadata": {
        "id": "gXdx43Gxjfxh",
        "outputId": "b67dd04e-0949-458c-b911-ce49e541bcfe",
        "colab": {
          "base_uri": "https://localhost:8080/",
          "height": 706
        }
      },
      "source": [
        "epochs = 20\n",
        "batch_size = 256\n",
        "\n",
        "history = model.fit(x=train_images, \n",
        "                    y=train_labels, \n",
        "                    batch_size=batch_size, \n",
        "                    epochs=epochs,\n",
        "                    validation_split=0.1)"
      ],
      "execution_count": 32,
      "outputs": [
        {
          "output_type": "stream",
          "text": [
            "Epoch 1/20\n",
            "211/211 [==============================] - 2s 9ms/step - loss: 0.7567 - accuracy: 0.7172 - val_loss: 0.4502 - val_accuracy: 0.8373\n",
            "Epoch 2/20\n",
            "211/211 [==============================] - 2s 8ms/step - loss: 0.4732 - accuracy: 0.8281 - val_loss: 0.3785 - val_accuracy: 0.8617\n",
            "Epoch 3/20\n",
            "211/211 [==============================] - 2s 8ms/step - loss: 0.4195 - accuracy: 0.8484 - val_loss: 0.3413 - val_accuracy: 0.8765\n",
            "Epoch 4/20\n",
            "211/211 [==============================] - 2s 8ms/step - loss: 0.3848 - accuracy: 0.8607 - val_loss: 0.3183 - val_accuracy: 0.8835\n",
            "Epoch 5/20\n",
            "211/211 [==============================] - 2s 8ms/step - loss: 0.3645 - accuracy: 0.8674 - val_loss: 0.3063 - val_accuracy: 0.8885\n",
            "Epoch 6/20\n",
            "211/211 [==============================] - 2s 8ms/step - loss: 0.3484 - accuracy: 0.8730 - val_loss: 0.3083 - val_accuracy: 0.8852\n",
            "Epoch 7/20\n",
            "211/211 [==============================] - 2s 8ms/step - loss: 0.3335 - accuracy: 0.8787 - val_loss: 0.2807 - val_accuracy: 0.8982\n",
            "Epoch 8/20\n",
            "211/211 [==============================] - 2s 7ms/step - loss: 0.3231 - accuracy: 0.8817 - val_loss: 0.2730 - val_accuracy: 0.8990\n",
            "Epoch 9/20\n",
            "211/211 [==============================] - 2s 8ms/step - loss: 0.3125 - accuracy: 0.8851 - val_loss: 0.2745 - val_accuracy: 0.8963\n",
            "Epoch 10/20\n",
            "211/211 [==============================] - 2s 7ms/step - loss: 0.3004 - accuracy: 0.8901 - val_loss: 0.2629 - val_accuracy: 0.9015\n",
            "Epoch 11/20\n",
            "211/211 [==============================] - 2s 8ms/step - loss: 0.2948 - accuracy: 0.8923 - val_loss: 0.2547 - val_accuracy: 0.9055\n",
            "Epoch 12/20\n",
            "211/211 [==============================] - 2s 8ms/step - loss: 0.2877 - accuracy: 0.8947 - val_loss: 0.2520 - val_accuracy: 0.9100\n",
            "Epoch 13/20\n",
            "211/211 [==============================] - 2s 8ms/step - loss: 0.2799 - accuracy: 0.8963 - val_loss: 0.2476 - val_accuracy: 0.9057\n",
            "Epoch 14/20\n",
            "211/211 [==============================] - 2s 8ms/step - loss: 0.2762 - accuracy: 0.8968 - val_loss: 0.2504 - val_accuracy: 0.9067\n",
            "Epoch 15/20\n",
            "211/211 [==============================] - 2s 8ms/step - loss: 0.2701 - accuracy: 0.9004 - val_loss: 0.2396 - val_accuracy: 0.9118\n",
            "Epoch 16/20\n",
            "211/211 [==============================] - 2s 8ms/step - loss: 0.2635 - accuracy: 0.9020 - val_loss: 0.2364 - val_accuracy: 0.9130\n",
            "Epoch 17/20\n",
            "211/211 [==============================] - 2s 8ms/step - loss: 0.2597 - accuracy: 0.9042 - val_loss: 0.2329 - val_accuracy: 0.9132\n",
            "Epoch 18/20\n",
            "211/211 [==============================] - 2s 8ms/step - loss: 0.2542 - accuracy: 0.9062 - val_loss: 0.2319 - val_accuracy: 0.9152\n",
            "Epoch 19/20\n",
            "211/211 [==============================] - 2s 8ms/step - loss: 0.2491 - accuracy: 0.9084 - val_loss: 0.2296 - val_accuracy: 0.9153\n",
            "Epoch 20/20\n",
            "211/211 [==============================] - 2s 8ms/step - loss: 0.2458 - accuracy: 0.9096 - val_loss: 0.2288 - val_accuracy: 0.9157\n",
            "time: 33.8 s\n"
          ],
          "name": "stdout"
        }
      ]
    },
    {
      "cell_type": "code",
      "metadata": {
        "id": "yHe1WADrjkP_",
        "outputId": "2dd5fe75-8bf0-41f6-8257-2ebcb79923e8",
        "colab": {
          "base_uri": "https://localhost:8080/",
          "height": 312
        }
      },
      "source": [
        "plt.plot(history.history['accuracy'])\n",
        "plt.plot(history.history['loss'])\n",
        "plt.plot(history.history['val_loss'])\n",
        "plt.plot(history.history['val_accuracy'])\n",
        "plt.title('model performances')\n",
        "plt.ylabel('accuracy')\n",
        "plt.xlabel('epoch')\n",
        "plt.legend(['train_accuracy','train_loss','val_loss','val_accuracy'],loc='right')\n",
        "plt.show()"
      ],
      "execution_count": 33,
      "outputs": [
        {
          "output_type": "display_data",
          "data": {
            "image/png": "[encoded data removed]",
            "text/plain": [
              "<Figure size 432x288 with 1 Axes>"
            ]
          },
          "metadata": {
            "tags": [],
            "needs_background": "light"
          }
        },
        {
          "output_type": "stream",
          "text": [
            "time: 225 ms\n"
          ],
          "name": "stdout"
        }
      ]
    },
    {
      "cell_type": "code",
      "metadata": {
        "id": "zc_zrJaTkCla",
        "outputId": "96e2c61f-22d4-4d19-f29a-14287c37f13e",
        "colab": {
          "base_uri": "https://localhost:8080/",
          "height": 84
        }
      },
      "source": [
        "score = model.evaluate(test_images,test_labels)\n",
        "print(\"Test loss:\", score[0])\n",
        "print(\"Test accuracy:\", score[1])"
      ],
      "execution_count": 34,
      "outputs": [
        {
          "output_type": "stream",
          "text": [
            "313/313 [==============================] - 1s 3ms/step - loss: 0.2409 - accuracy: 0.9097\n",
            "Test loss: 0.24090605974197388\n",
            "Test accuracy: 0.9096999764442444\n",
            "time: 949 ms\n"
          ],
          "name": "stdout"
        }
      ]
    },
    {
      "cell_type": "markdown",
      "metadata": {
        "id": "cNqUJKEM823A"
      },
      "source": [
        "The improved model seems to perform better than the basic one, indeed it does not show overfitting, the accuracy reached almost 91% and the test loss has an acceptable value. The performance of this model could be considered satisfactory, even if it could be surely improved using more complex CNN architectures.\n",
        "\n",
        "The time needed to run all the code in this notebook is ~10 minutes using the GPU as hardware accelerator."
      ]
    }
  ]
}